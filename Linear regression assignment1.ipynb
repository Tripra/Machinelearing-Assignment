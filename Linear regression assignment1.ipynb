{
 "cells": [
  {
   "cell_type": "code",
   "execution_count": 1,
   "id": "879b2cde",
   "metadata": {},
   "outputs": [],
   "source": [
    "#importing libraries\n",
    "import pandas as pd \n",
    "import numpy as np\n",
    "import seaborn as sns \n",
    "import matplotlib.pyplot as plt\n",
    "%matplotlib inline"
   ]
  },
  {
   "cell_type": "code",
   "execution_count": 2,
   "id": "694f551f",
   "metadata": {},
   "outputs": [],
   "source": [
    "#reading algerian dataset\n",
    "alf_data=pd.read_csv(\"C:\\\\Users\\\\HP\\\\Downloads\\\\Algerian_forest_fires_dataset_UPDATE3.csv\")"
   ]
  },
  {
   "cell_type": "code",
   "execution_count": 3,
   "id": "561d6e42",
   "metadata": {},
   "outputs": [
    {
     "data": {
      "text/html": [
       "<div>\n",
       "<style scoped>\n",
       "    .dataframe tbody tr th:only-of-type {\n",
       "        vertical-align: middle;\n",
       "    }\n",
       "\n",
       "    .dataframe tbody tr th {\n",
       "        vertical-align: top;\n",
       "    }\n",
       "\n",
       "    .dataframe thead th {\n",
       "        text-align: right;\n",
       "    }\n",
       "</style>\n",
       "<table border=\"1\" class=\"dataframe\">\n",
       "  <thead>\n",
       "    <tr style=\"text-align: right;\">\n",
       "      <th></th>\n",
       "      <th>day</th>\n",
       "      <th>month</th>\n",
       "      <th>year</th>\n",
       "      <th>Temperature</th>\n",
       "      <th>RH</th>\n",
       "      <th>Ws</th>\n",
       "      <th>Rain</th>\n",
       "      <th>FFMC</th>\n",
       "      <th>DMC</th>\n",
       "      <th>DC</th>\n",
       "      <th>ISI</th>\n",
       "      <th>BUI</th>\n",
       "      <th>FWI</th>\n",
       "    </tr>\n",
       "  </thead>\n",
       "  <tbody>\n",
       "    <tr>\n",
       "      <th>0</th>\n",
       "      <td>1</td>\n",
       "      <td>6</td>\n",
       "      <td>2012</td>\n",
       "      <td>29</td>\n",
       "      <td>57</td>\n",
       "      <td>18</td>\n",
       "      <td>0.0</td>\n",
       "      <td>65.7</td>\n",
       "      <td>3.4</td>\n",
       "      <td>7.6</td>\n",
       "      <td>1.3</td>\n",
       "      <td>3.4</td>\n",
       "      <td>0.5</td>\n",
       "    </tr>\n",
       "    <tr>\n",
       "      <th>1</th>\n",
       "      <td>2</td>\n",
       "      <td>6</td>\n",
       "      <td>2012</td>\n",
       "      <td>29</td>\n",
       "      <td>61</td>\n",
       "      <td>13</td>\n",
       "      <td>1.3</td>\n",
       "      <td>64.4</td>\n",
       "      <td>4.1</td>\n",
       "      <td>7.6</td>\n",
       "      <td>1.0</td>\n",
       "      <td>3.9</td>\n",
       "      <td>0.4</td>\n",
       "    </tr>\n",
       "    <tr>\n",
       "      <th>2</th>\n",
       "      <td>3</td>\n",
       "      <td>6</td>\n",
       "      <td>2012</td>\n",
       "      <td>26</td>\n",
       "      <td>82</td>\n",
       "      <td>22</td>\n",
       "      <td>13.1</td>\n",
       "      <td>47.1</td>\n",
       "      <td>2.5</td>\n",
       "      <td>7.1</td>\n",
       "      <td>0.3</td>\n",
       "      <td>2.7</td>\n",
       "      <td>0.1</td>\n",
       "    </tr>\n",
       "    <tr>\n",
       "      <th>3</th>\n",
       "      <td>4</td>\n",
       "      <td>6</td>\n",
       "      <td>2012</td>\n",
       "      <td>25</td>\n",
       "      <td>89</td>\n",
       "      <td>13</td>\n",
       "      <td>2.5</td>\n",
       "      <td>28.6</td>\n",
       "      <td>1.3</td>\n",
       "      <td>6.9</td>\n",
       "      <td>0.0</td>\n",
       "      <td>1.7</td>\n",
       "      <td>0</td>\n",
       "    </tr>\n",
       "    <tr>\n",
       "      <th>4</th>\n",
       "      <td>5</td>\n",
       "      <td>6</td>\n",
       "      <td>2012</td>\n",
       "      <td>27</td>\n",
       "      <td>77</td>\n",
       "      <td>16</td>\n",
       "      <td>0.0</td>\n",
       "      <td>64.8</td>\n",
       "      <td>3.0</td>\n",
       "      <td>14.2</td>\n",
       "      <td>1.2</td>\n",
       "      <td>3.9</td>\n",
       "      <td>0.5</td>\n",
       "    </tr>\n",
       "  </tbody>\n",
       "</table>\n",
       "</div>"
      ],
      "text/plain": [
       "   day  month  year  Temperature   RH   Ws  Rain   FFMC  DMC    DC  ISI  BUI  \\\n",
       "0    1      6  2012           29   57   18    0.0  65.7  3.4   7.6  1.3  3.4   \n",
       "1    2      6  2012           29   61   13    1.3  64.4  4.1   7.6  1.0  3.9   \n",
       "2    3      6  2012           26   82   22   13.1  47.1  2.5   7.1  0.3  2.7   \n",
       "3    4      6  2012           25   89   13    2.5  28.6  1.3   6.9  0.0  1.7   \n",
       "4    5      6  2012           27   77   16    0.0  64.8  3.0  14.2  1.2  3.9   \n",
       "\n",
       "   FWI  \n",
       "0  0.5  \n",
       "1  0.4  \n",
       "2  0.1  \n",
       "3    0  \n",
       "4  0.5  "
      ]
     },
     "execution_count": 3,
     "metadata": {},
     "output_type": "execute_result"
    }
   ],
   "source": [
    "# Displayng top 5 rows\n",
    "alf_data.head()"
   ]
  },
  {
   "cell_type": "code",
   "execution_count": 4,
   "id": "0f83763f",
   "metadata": {},
   "outputs": [
    {
     "data": {
      "text/html": [
       "<div>\n",
       "<style scoped>\n",
       "    .dataframe tbody tr th:only-of-type {\n",
       "        vertical-align: middle;\n",
       "    }\n",
       "\n",
       "    .dataframe tbody tr th {\n",
       "        vertical-align: top;\n",
       "    }\n",
       "\n",
       "    .dataframe thead th {\n",
       "        text-align: right;\n",
       "    }\n",
       "</style>\n",
       "<table border=\"1\" class=\"dataframe\">\n",
       "  <thead>\n",
       "    <tr style=\"text-align: right;\">\n",
       "      <th></th>\n",
       "      <th>day</th>\n",
       "      <th>month</th>\n",
       "      <th>year</th>\n",
       "      <th>Temperature</th>\n",
       "      <th>RH</th>\n",
       "      <th>Ws</th>\n",
       "      <th>Rain</th>\n",
       "      <th>FFMC</th>\n",
       "      <th>DMC</th>\n",
       "      <th>DC</th>\n",
       "      <th>ISI</th>\n",
       "      <th>BUI</th>\n",
       "      <th>FWI</th>\n",
       "    </tr>\n",
       "  </thead>\n",
       "  <tbody>\n",
       "    <tr>\n",
       "      <th>239</th>\n",
       "      <td>26</td>\n",
       "      <td>9</td>\n",
       "      <td>2012</td>\n",
       "      <td>30</td>\n",
       "      <td>65</td>\n",
       "      <td>14</td>\n",
       "      <td>0.0</td>\n",
       "      <td>85.4</td>\n",
       "      <td>16.0</td>\n",
       "      <td>44.5</td>\n",
       "      <td>4.5</td>\n",
       "      <td>16.9</td>\n",
       "      <td>6.5</td>\n",
       "    </tr>\n",
       "    <tr>\n",
       "      <th>240</th>\n",
       "      <td>27</td>\n",
       "      <td>9</td>\n",
       "      <td>2012</td>\n",
       "      <td>28</td>\n",
       "      <td>87</td>\n",
       "      <td>15</td>\n",
       "      <td>4.4</td>\n",
       "      <td>41.1</td>\n",
       "      <td>6.5</td>\n",
       "      <td>8</td>\n",
       "      <td>0.1</td>\n",
       "      <td>6.2</td>\n",
       "      <td>0</td>\n",
       "    </tr>\n",
       "    <tr>\n",
       "      <th>241</th>\n",
       "      <td>28</td>\n",
       "      <td>9</td>\n",
       "      <td>2012</td>\n",
       "      <td>27</td>\n",
       "      <td>87</td>\n",
       "      <td>29</td>\n",
       "      <td>0.5</td>\n",
       "      <td>45.9</td>\n",
       "      <td>3.5</td>\n",
       "      <td>7.9</td>\n",
       "      <td>0.4</td>\n",
       "      <td>3.4</td>\n",
       "      <td>0.2</td>\n",
       "    </tr>\n",
       "    <tr>\n",
       "      <th>242</th>\n",
       "      <td>29</td>\n",
       "      <td>9</td>\n",
       "      <td>2012</td>\n",
       "      <td>24</td>\n",
       "      <td>54</td>\n",
       "      <td>18</td>\n",
       "      <td>0.1</td>\n",
       "      <td>79.7</td>\n",
       "      <td>4.3</td>\n",
       "      <td>15.2</td>\n",
       "      <td>1.7</td>\n",
       "      <td>5.1</td>\n",
       "      <td>0.7</td>\n",
       "    </tr>\n",
       "    <tr>\n",
       "      <th>243</th>\n",
       "      <td>30</td>\n",
       "      <td>9</td>\n",
       "      <td>2012</td>\n",
       "      <td>24</td>\n",
       "      <td>64</td>\n",
       "      <td>15</td>\n",
       "      <td>0.2</td>\n",
       "      <td>67.3</td>\n",
       "      <td>3.8</td>\n",
       "      <td>16.5</td>\n",
       "      <td>1.2</td>\n",
       "      <td>4.8</td>\n",
       "      <td>0.5</td>\n",
       "    </tr>\n",
       "  </tbody>\n",
       "</table>\n",
       "</div>"
      ],
      "text/plain": [
       "     day  month  year  Temperature   RH   Ws  Rain   FFMC   DMC    DC  ISI  \\\n",
       "239   26      9  2012           30   65   14    0.0  85.4  16.0  44.5  4.5   \n",
       "240   27      9  2012           28   87   15    4.4  41.1   6.5     8  0.1   \n",
       "241   28      9  2012           27   87   29    0.5  45.9   3.5   7.9  0.4   \n",
       "242   29      9  2012           24   54   18    0.1  79.7   4.3  15.2  1.7   \n",
       "243   30      9  2012           24   64   15    0.2  67.3   3.8  16.5  1.2   \n",
       "\n",
       "      BUI  FWI  \n",
       "239  16.9  6.5  \n",
       "240   6.2    0  \n",
       "241   3.4  0.2  \n",
       "242   5.1  0.7  \n",
       "243   4.8  0.5  "
      ]
     },
     "execution_count": 4,
     "metadata": {},
     "output_type": "execute_result"
    }
   ],
   "source": [
    "# Displaying last 5 rows\n",
    "alf_data.tail()"
   ]
  },
  {
   "cell_type": "markdown",
   "id": "0ff8c9d8",
   "metadata": {},
   "source": [
    "# Understanding dataset"
   ]
  },
  {
   "cell_type": "code",
   "execution_count": 5,
   "id": "4746645c",
   "metadata": {},
   "outputs": [
    {
     "data": {
      "text/plain": [
       "(244, 13)"
      ]
     },
     "execution_count": 5,
     "metadata": {},
     "output_type": "execute_result"
    }
   ],
   "source": [
    "#displaying the shape of dateset\n",
    "alf_data.shape"
   ]
  },
  {
   "cell_type": "code",
   "execution_count": 6,
   "id": "1a13c6da",
   "metadata": {},
   "outputs": [
    {
     "name": "stdout",
     "output_type": "stream",
     "text": [
      "<class 'pandas.core.frame.DataFrame'>\n",
      "RangeIndex: 244 entries, 0 to 243\n",
      "Data columns (total 13 columns):\n",
      " #   Column       Non-Null Count  Dtype  \n",
      "---  ------       --------------  -----  \n",
      " 0   day          244 non-null    int64  \n",
      " 1   month        244 non-null    int64  \n",
      " 2   year         244 non-null    int64  \n",
      " 3   Temperature  244 non-null    int64  \n",
      " 4    RH          244 non-null    int64  \n",
      " 5    Ws          244 non-null    int64  \n",
      " 6   Rain         244 non-null    float64\n",
      " 7   FFMC         244 non-null    float64\n",
      " 8   DMC          244 non-null    float64\n",
      " 9   DC           244 non-null    object \n",
      " 10  ISI          244 non-null    float64\n",
      " 11  BUI          244 non-null    float64\n",
      " 12  FWI          244 non-null    object \n",
      "dtypes: float64(5), int64(6), object(2)\n",
      "memory usage: 24.9+ KB\n"
     ]
    }
   ],
   "source": [
    "#information of datatypes and not_null count\n",
    "alf_data.info()"
   ]
  },
  {
   "cell_type": "code",
   "execution_count": 7,
   "id": "fb14b443",
   "metadata": {},
   "outputs": [
    {
     "data": {
      "text/plain": [
       "Index(['day', 'month', 'year', 'Temperature', ' RH', ' Ws', 'Rain ', 'FFMC',\n",
       "       'DMC', 'DC', 'ISI', 'BUI', 'FWI'],\n",
       "      dtype='object')"
      ]
     },
     "execution_count": 7,
     "metadata": {},
     "output_type": "execute_result"
    }
   ],
   "source": [
    "#displaying column names\n",
    "alf_data.columns"
   ]
  },
  {
   "cell_type": "code",
   "execution_count": 8,
   "id": "6e285135",
   "metadata": {},
   "outputs": [],
   "source": [
    "#renaming the column name which have space\n",
    "alf_data=alf_data.rename(columns={' RH':'RH',' Ws':'Ws','Rain ':'Rain'})"
   ]
  },
  {
   "cell_type": "code",
   "execution_count": 9,
   "id": "38a819ef",
   "metadata": {},
   "outputs": [],
   "source": [
    "#changing the column datatypes into numeric\n",
    "\n",
    "alf_data['FWI']=pd.to_numeric(alf_data['FWI'],errors='coerce')\n",
    "alf_data['DC']=pd.to_numeric(alf_data['DC'],errors='coerce')\n"
   ]
  },
  {
   "cell_type": "code",
   "execution_count": 10,
   "id": "674152ec",
   "metadata": {},
   "outputs": [
    {
     "data": {
      "text/plain": [
       "day              int64\n",
       "month            int64\n",
       "year             int64\n",
       "Temperature      int64\n",
       "RH               int64\n",
       "Ws               int64\n",
       "Rain           float64\n",
       "FFMC           float64\n",
       "DMC            float64\n",
       "DC             float64\n",
       "ISI            float64\n",
       "BUI            float64\n",
       "FWI            float64\n",
       "dtype: object"
      ]
     },
     "execution_count": 10,
     "metadata": {},
     "output_type": "execute_result"
    }
   ],
   "source": [
    "#diplaying datatype after changing \n",
    "alf_data.dtypes"
   ]
  },
  {
   "cell_type": "code",
   "execution_count": 11,
   "id": "76eb969e",
   "metadata": {},
   "outputs": [
    {
     "data": {
      "text/html": [
       "<div>\n",
       "<style scoped>\n",
       "    .dataframe tbody tr th:only-of-type {\n",
       "        vertical-align: middle;\n",
       "    }\n",
       "\n",
       "    .dataframe tbody tr th {\n",
       "        vertical-align: top;\n",
       "    }\n",
       "\n",
       "    .dataframe thead th {\n",
       "        text-align: right;\n",
       "    }\n",
       "</style>\n",
       "<table border=\"1\" class=\"dataframe\">\n",
       "  <thead>\n",
       "    <tr style=\"text-align: right;\">\n",
       "      <th></th>\n",
       "      <th>day</th>\n",
       "      <th>month</th>\n",
       "      <th>year</th>\n",
       "      <th>Temperature</th>\n",
       "      <th>RH</th>\n",
       "      <th>Ws</th>\n",
       "      <th>Rain</th>\n",
       "      <th>FFMC</th>\n",
       "      <th>DMC</th>\n",
       "      <th>DC</th>\n",
       "      <th>ISI</th>\n",
       "      <th>BUI</th>\n",
       "      <th>FWI</th>\n",
       "    </tr>\n",
       "  </thead>\n",
       "  <tbody>\n",
       "    <tr>\n",
       "      <th>count</th>\n",
       "      <td>244.000000</td>\n",
       "      <td>244.000000</td>\n",
       "      <td>244.0</td>\n",
       "      <td>244.000000</td>\n",
       "      <td>244.000000</td>\n",
       "      <td>244.000000</td>\n",
       "      <td>244.000000</td>\n",
       "      <td>244.000000</td>\n",
       "      <td>244.000000</td>\n",
       "      <td>243.000000</td>\n",
       "      <td>244.000000</td>\n",
       "      <td>244.000000</td>\n",
       "      <td>243.000000</td>\n",
       "    </tr>\n",
       "    <tr>\n",
       "      <th>mean</th>\n",
       "      <td>15.754098</td>\n",
       "      <td>7.500000</td>\n",
       "      <td>2012.0</td>\n",
       "      <td>32.172131</td>\n",
       "      <td>61.938525</td>\n",
       "      <td>15.504098</td>\n",
       "      <td>0.760656</td>\n",
       "      <td>77.887705</td>\n",
       "      <td>14.673361</td>\n",
       "      <td>49.430864</td>\n",
       "      <td>4.774180</td>\n",
       "      <td>16.664754</td>\n",
       "      <td>7.035391</td>\n",
       "    </tr>\n",
       "    <tr>\n",
       "      <th>std</th>\n",
       "      <td>8.825059</td>\n",
       "      <td>1.112961</td>\n",
       "      <td>0.0</td>\n",
       "      <td>3.633843</td>\n",
       "      <td>14.884200</td>\n",
       "      <td>2.810178</td>\n",
       "      <td>1.999406</td>\n",
       "      <td>14.337571</td>\n",
       "      <td>12.368039</td>\n",
       "      <td>47.665606</td>\n",
       "      <td>4.175318</td>\n",
       "      <td>14.204824</td>\n",
       "      <td>7.440568</td>\n",
       "    </tr>\n",
       "    <tr>\n",
       "      <th>min</th>\n",
       "      <td>1.000000</td>\n",
       "      <td>6.000000</td>\n",
       "      <td>2012.0</td>\n",
       "      <td>22.000000</td>\n",
       "      <td>21.000000</td>\n",
       "      <td>6.000000</td>\n",
       "      <td>0.000000</td>\n",
       "      <td>28.600000</td>\n",
       "      <td>0.700000</td>\n",
       "      <td>6.900000</td>\n",
       "      <td>0.000000</td>\n",
       "      <td>1.100000</td>\n",
       "      <td>0.000000</td>\n",
       "    </tr>\n",
       "    <tr>\n",
       "      <th>25%</th>\n",
       "      <td>8.000000</td>\n",
       "      <td>7.000000</td>\n",
       "      <td>2012.0</td>\n",
       "      <td>30.000000</td>\n",
       "      <td>52.000000</td>\n",
       "      <td>14.000000</td>\n",
       "      <td>0.000000</td>\n",
       "      <td>72.075000</td>\n",
       "      <td>5.800000</td>\n",
       "      <td>12.350000</td>\n",
       "      <td>1.400000</td>\n",
       "      <td>6.000000</td>\n",
       "      <td>0.700000</td>\n",
       "    </tr>\n",
       "    <tr>\n",
       "      <th>50%</th>\n",
       "      <td>16.000000</td>\n",
       "      <td>7.500000</td>\n",
       "      <td>2012.0</td>\n",
       "      <td>32.000000</td>\n",
       "      <td>63.000000</td>\n",
       "      <td>15.000000</td>\n",
       "      <td>0.000000</td>\n",
       "      <td>83.500000</td>\n",
       "      <td>11.300000</td>\n",
       "      <td>33.100000</td>\n",
       "      <td>3.500000</td>\n",
       "      <td>12.250000</td>\n",
       "      <td>4.200000</td>\n",
       "    </tr>\n",
       "    <tr>\n",
       "      <th>75%</th>\n",
       "      <td>23.000000</td>\n",
       "      <td>8.000000</td>\n",
       "      <td>2012.0</td>\n",
       "      <td>35.000000</td>\n",
       "      <td>73.250000</td>\n",
       "      <td>17.000000</td>\n",
       "      <td>0.500000</td>\n",
       "      <td>88.300000</td>\n",
       "      <td>20.750000</td>\n",
       "      <td>69.100000</td>\n",
       "      <td>7.300000</td>\n",
       "      <td>22.525000</td>\n",
       "      <td>11.450000</td>\n",
       "    </tr>\n",
       "    <tr>\n",
       "      <th>max</th>\n",
       "      <td>31.000000</td>\n",
       "      <td>9.000000</td>\n",
       "      <td>2012.0</td>\n",
       "      <td>42.000000</td>\n",
       "      <td>90.000000</td>\n",
       "      <td>29.000000</td>\n",
       "      <td>16.800000</td>\n",
       "      <td>96.000000</td>\n",
       "      <td>65.900000</td>\n",
       "      <td>220.400000</td>\n",
       "      <td>19.000000</td>\n",
       "      <td>68.000000</td>\n",
       "      <td>31.100000</td>\n",
       "    </tr>\n",
       "  </tbody>\n",
       "</table>\n",
       "</div>"
      ],
      "text/plain": [
       "              day       month    year  Temperature          RH          Ws  \\\n",
       "count  244.000000  244.000000   244.0   244.000000  244.000000  244.000000   \n",
       "mean    15.754098    7.500000  2012.0    32.172131   61.938525   15.504098   \n",
       "std      8.825059    1.112961     0.0     3.633843   14.884200    2.810178   \n",
       "min      1.000000    6.000000  2012.0    22.000000   21.000000    6.000000   \n",
       "25%      8.000000    7.000000  2012.0    30.000000   52.000000   14.000000   \n",
       "50%     16.000000    7.500000  2012.0    32.000000   63.000000   15.000000   \n",
       "75%     23.000000    8.000000  2012.0    35.000000   73.250000   17.000000   \n",
       "max     31.000000    9.000000  2012.0    42.000000   90.000000   29.000000   \n",
       "\n",
       "             Rain        FFMC         DMC          DC         ISI         BUI  \\\n",
       "count  244.000000  244.000000  244.000000  243.000000  244.000000  244.000000   \n",
       "mean     0.760656   77.887705   14.673361   49.430864    4.774180   16.664754   \n",
       "std      1.999406   14.337571   12.368039   47.665606    4.175318   14.204824   \n",
       "min      0.000000   28.600000    0.700000    6.900000    0.000000    1.100000   \n",
       "25%      0.000000   72.075000    5.800000   12.350000    1.400000    6.000000   \n",
       "50%      0.000000   83.500000   11.300000   33.100000    3.500000   12.250000   \n",
       "75%      0.500000   88.300000   20.750000   69.100000    7.300000   22.525000   \n",
       "max     16.800000   96.000000   65.900000  220.400000   19.000000   68.000000   \n",
       "\n",
       "              FWI  \n",
       "count  243.000000  \n",
       "mean     7.035391  \n",
       "std      7.440568  \n",
       "min      0.000000  \n",
       "25%      0.700000  \n",
       "50%      4.200000  \n",
       "75%     11.450000  \n",
       "max     31.100000  "
      ]
     },
     "execution_count": 11,
     "metadata": {},
     "output_type": "execute_result"
    }
   ],
   "source": [
    "#describing the dataset\n",
    "alf_data.describe()"
   ]
  },
  {
   "cell_type": "code",
   "execution_count": 12,
   "id": "73d2eef1",
   "metadata": {},
   "outputs": [
    {
     "data": {
      "text/plain": [
       "day             31\n",
       "month            4\n",
       "year             1\n",
       "Temperature     19\n",
       "RH              62\n",
       "Ws              18\n",
       "Rain            39\n",
       "FFMC           173\n",
       "DMC            166\n",
       "DC             197\n",
       "ISI            106\n",
       "BUI            174\n",
       "FWI            125\n",
       "dtype: int64"
      ]
     },
     "execution_count": 12,
     "metadata": {},
     "output_type": "execute_result"
    }
   ],
   "source": [
    "#checking unique value \n",
    "alf_data.nunique()"
   ]
  },
  {
   "cell_type": "code",
   "execution_count": 13,
   "id": "d6df60d2",
   "metadata": {},
   "outputs": [
    {
     "data": {
      "text/plain": [
       "day            0\n",
       "month          0\n",
       "year           0\n",
       "Temperature    0\n",
       "RH             0\n",
       "Ws             0\n",
       "Rain           0\n",
       "FFMC           0\n",
       "DMC            0\n",
       "DC             1\n",
       "ISI            0\n",
       "BUI            0\n",
       "FWI            1\n",
       "dtype: int64"
      ]
     },
     "execution_count": 13,
     "metadata": {},
     "output_type": "execute_result"
    }
   ],
   "source": [
    "#checking missing value \n",
    "alf_data.isnull().sum()"
   ]
  },
  {
   "cell_type": "code",
   "execution_count": 14,
   "id": "3875b83f",
   "metadata": {},
   "outputs": [],
   "source": [
    "#Handling the missing value"
   ]
  },
  {
   "cell_type": "code",
   "execution_count": 15,
   "id": "fb7088d5",
   "metadata": {},
   "outputs": [],
   "source": [
    "#1.FWI column missing value\n",
    "alf_data['FWI']=alf_data['FWI'].fillna(alf_data['FWI'].median())"
   ]
  },
  {
   "cell_type": "code",
   "execution_count": 16,
   "id": "33992f5b",
   "metadata": {},
   "outputs": [
    {
     "data": {
      "text/plain": [
       "0"
      ]
     },
     "execution_count": 16,
     "metadata": {},
     "output_type": "execute_result"
    }
   ],
   "source": [
    "alf_data['FWI'].isnull().sum()"
   ]
  },
  {
   "cell_type": "code",
   "execution_count": 17,
   "id": "f72de5d5",
   "metadata": {},
   "outputs": [],
   "source": [
    "#2.DC column missing value\n",
    "alf_data['DC']=alf_data['DC'].fillna(alf_data['DC'].median())"
   ]
  },
  {
   "cell_type": "code",
   "execution_count": 18,
   "id": "763006bf",
   "metadata": {},
   "outputs": [
    {
     "data": {
      "text/plain": [
       "day            0\n",
       "month          0\n",
       "year           0\n",
       "Temperature    0\n",
       "RH             0\n",
       "Ws             0\n",
       "Rain           0\n",
       "FFMC           0\n",
       "DMC            0\n",
       "DC             0\n",
       "ISI            0\n",
       "BUI            0\n",
       "FWI            0\n",
       "dtype: int64"
      ]
     },
     "execution_count": 18,
     "metadata": {},
     "output_type": "execute_result"
    }
   ],
   "source": [
    "alf_data.isnull().sum()"
   ]
  },
  {
   "cell_type": "markdown",
   "id": "b6e52254",
   "metadata": {},
   "source": [
    "# Bivariante Analysis"
   ]
  },
  {
   "cell_type": "code",
   "execution_count": 19,
   "id": "2c1bfbd0",
   "metadata": {},
   "outputs": [
    {
     "data": {
      "text/html": [
       "<div>\n",
       "<style scoped>\n",
       "    .dataframe tbody tr th:only-of-type {\n",
       "        vertical-align: middle;\n",
       "    }\n",
       "\n",
       "    .dataframe tbody tr th {\n",
       "        vertical-align: top;\n",
       "    }\n",
       "\n",
       "    .dataframe thead th {\n",
       "        text-align: right;\n",
       "    }\n",
       "</style>\n",
       "<table border=\"1\" class=\"dataframe\">\n",
       "  <thead>\n",
       "    <tr style=\"text-align: right;\">\n",
       "      <th></th>\n",
       "      <th>day</th>\n",
       "      <th>month</th>\n",
       "      <th>year</th>\n",
       "      <th>Temperature</th>\n",
       "      <th>RH</th>\n",
       "      <th>Ws</th>\n",
       "      <th>Rain</th>\n",
       "      <th>FFMC</th>\n",
       "      <th>DMC</th>\n",
       "      <th>DC</th>\n",
       "      <th>ISI</th>\n",
       "      <th>BUI</th>\n",
       "      <th>FWI</th>\n",
       "    </tr>\n",
       "  </thead>\n",
       "  <tbody>\n",
       "    <tr>\n",
       "      <th>day</th>\n",
       "      <td>1.000000e+00</td>\n",
       "      <td>2.232788e-17</td>\n",
       "      <td>NaN</td>\n",
       "      <td>0.095772</td>\n",
       "      <td>-0.074209</td>\n",
       "      <td>0.047001</td>\n",
       "      <td>-0.112265</td>\n",
       "      <td>0.224032</td>\n",
       "      <td>0.491571</td>\n",
       "      <td>0.528063</td>\n",
       "      <td>0.177727</td>\n",
       "      <td>0.517229</td>\n",
       "      <td>0.350960</td>\n",
       "    </tr>\n",
       "    <tr>\n",
       "      <th>month</th>\n",
       "      <td>2.232788e-17</td>\n",
       "      <td>1.000000e+00</td>\n",
       "      <td>NaN</td>\n",
       "      <td>-0.059017</td>\n",
       "      <td>-0.037884</td>\n",
       "      <td>-0.041447</td>\n",
       "      <td>0.035322</td>\n",
       "      <td>0.015577</td>\n",
       "      <td>0.068178</td>\n",
       "      <td>0.127062</td>\n",
       "      <td>0.061680</td>\n",
       "      <td>0.085822</td>\n",
       "      <td>0.083285</td>\n",
       "    </tr>\n",
       "    <tr>\n",
       "      <th>year</th>\n",
       "      <td>NaN</td>\n",
       "      <td>NaN</td>\n",
       "      <td>NaN</td>\n",
       "      <td>NaN</td>\n",
       "      <td>NaN</td>\n",
       "      <td>NaN</td>\n",
       "      <td>NaN</td>\n",
       "      <td>NaN</td>\n",
       "      <td>NaN</td>\n",
       "      <td>NaN</td>\n",
       "      <td>NaN</td>\n",
       "      <td>NaN</td>\n",
       "      <td>NaN</td>\n",
       "    </tr>\n",
       "    <tr>\n",
       "      <th>Temperature</th>\n",
       "      <td>9.577222e-02</td>\n",
       "      <td>-5.901677e-02</td>\n",
       "      <td>NaN</td>\n",
       "      <td>1.000000</td>\n",
       "      <td>-0.654443</td>\n",
       "      <td>-0.278132</td>\n",
       "      <td>-0.326786</td>\n",
       "      <td>0.677491</td>\n",
       "      <td>0.483105</td>\n",
       "      <td>0.372942</td>\n",
       "      <td>0.607551</td>\n",
       "      <td>0.455504</td>\n",
       "      <td>0.562344</td>\n",
       "    </tr>\n",
       "    <tr>\n",
       "      <th>RH</th>\n",
       "      <td>-7.420934e-02</td>\n",
       "      <td>-3.788419e-02</td>\n",
       "      <td>NaN</td>\n",
       "      <td>-0.654443</td>\n",
       "      <td>1.000000</td>\n",
       "      <td>0.236084</td>\n",
       "      <td>0.222968</td>\n",
       "      <td>-0.645658</td>\n",
       "      <td>-0.405133</td>\n",
       "      <td>-0.223200</td>\n",
       "      <td>-0.690637</td>\n",
       "      <td>-0.348587</td>\n",
       "      <td>-0.574773</td>\n",
       "    </tr>\n",
       "    <tr>\n",
       "      <th>Ws</th>\n",
       "      <td>4.700086e-02</td>\n",
       "      <td>-4.144673e-02</td>\n",
       "      <td>NaN</td>\n",
       "      <td>-0.278132</td>\n",
       "      <td>0.236084</td>\n",
       "      <td>1.000000</td>\n",
       "      <td>0.170169</td>\n",
       "      <td>-0.163255</td>\n",
       "      <td>-0.001246</td>\n",
       "      <td>0.077732</td>\n",
       "      <td>0.015248</td>\n",
       "      <td>0.029756</td>\n",
       "      <td>0.030910</td>\n",
       "    </tr>\n",
       "    <tr>\n",
       "      <th>Rain</th>\n",
       "      <td>-1.122654e-01</td>\n",
       "      <td>3.532207e-02</td>\n",
       "      <td>NaN</td>\n",
       "      <td>-0.326786</td>\n",
       "      <td>0.222968</td>\n",
       "      <td>0.170169</td>\n",
       "      <td>1.000000</td>\n",
       "      <td>-0.544045</td>\n",
       "      <td>-0.288548</td>\n",
       "      <td>-0.297507</td>\n",
       "      <td>-0.347105</td>\n",
       "      <td>-0.299171</td>\n",
       "      <td>-0.323831</td>\n",
       "    </tr>\n",
       "    <tr>\n",
       "      <th>FFMC</th>\n",
       "      <td>2.240321e-01</td>\n",
       "      <td>1.557668e-02</td>\n",
       "      <td>NaN</td>\n",
       "      <td>0.677491</td>\n",
       "      <td>-0.645658</td>\n",
       "      <td>-0.163255</td>\n",
       "      <td>-0.544045</td>\n",
       "      <td>1.000000</td>\n",
       "      <td>0.602391</td>\n",
       "      <td>0.505571</td>\n",
       "      <td>0.739730</td>\n",
       "      <td>0.589652</td>\n",
       "      <td>0.688876</td>\n",
       "    </tr>\n",
       "    <tr>\n",
       "      <th>DMC</th>\n",
       "      <td>4.915710e-01</td>\n",
       "      <td>6.817778e-02</td>\n",
       "      <td>NaN</td>\n",
       "      <td>0.483105</td>\n",
       "      <td>-0.405133</td>\n",
       "      <td>-0.001246</td>\n",
       "      <td>-0.288548</td>\n",
       "      <td>0.602391</td>\n",
       "      <td>1.000000</td>\n",
       "      <td>0.875879</td>\n",
       "      <td>0.674499</td>\n",
       "      <td>0.982073</td>\n",
       "      <td>0.875791</td>\n",
       "    </tr>\n",
       "    <tr>\n",
       "      <th>DC</th>\n",
       "      <td>5.280626e-01</td>\n",
       "      <td>1.270623e-01</td>\n",
       "      <td>NaN</td>\n",
       "      <td>0.372942</td>\n",
       "      <td>-0.223200</td>\n",
       "      <td>0.077732</td>\n",
       "      <td>-0.297507</td>\n",
       "      <td>0.505571</td>\n",
       "      <td>0.875879</td>\n",
       "      <td>1.000000</td>\n",
       "      <td>0.502297</td>\n",
       "      <td>0.942005</td>\n",
       "      <td>0.739658</td>\n",
       "    </tr>\n",
       "    <tr>\n",
       "      <th>ISI</th>\n",
       "      <td>1.777266e-01</td>\n",
       "      <td>6.168011e-02</td>\n",
       "      <td>NaN</td>\n",
       "      <td>0.607551</td>\n",
       "      <td>-0.690637</td>\n",
       "      <td>0.015248</td>\n",
       "      <td>-0.347105</td>\n",
       "      <td>0.739730</td>\n",
       "      <td>0.674499</td>\n",
       "      <td>0.502297</td>\n",
       "      <td>1.000000</td>\n",
       "      <td>0.635891</td>\n",
       "      <td>0.913163</td>\n",
       "    </tr>\n",
       "    <tr>\n",
       "      <th>BUI</th>\n",
       "      <td>5.172292e-01</td>\n",
       "      <td>8.582162e-02</td>\n",
       "      <td>NaN</td>\n",
       "      <td>0.455504</td>\n",
       "      <td>-0.348587</td>\n",
       "      <td>0.029756</td>\n",
       "      <td>-0.299171</td>\n",
       "      <td>0.589652</td>\n",
       "      <td>0.982073</td>\n",
       "      <td>0.942005</td>\n",
       "      <td>0.635891</td>\n",
       "      <td>1.000000</td>\n",
       "      <td>0.858065</td>\n",
       "    </tr>\n",
       "    <tr>\n",
       "      <th>FWI</th>\n",
       "      <td>3.509598e-01</td>\n",
       "      <td>8.328546e-02</td>\n",
       "      <td>NaN</td>\n",
       "      <td>0.562344</td>\n",
       "      <td>-0.574773</td>\n",
       "      <td>0.030910</td>\n",
       "      <td>-0.323831</td>\n",
       "      <td>0.688876</td>\n",
       "      <td>0.875791</td>\n",
       "      <td>0.739658</td>\n",
       "      <td>0.913163</td>\n",
       "      <td>0.858065</td>\n",
       "      <td>1.000000</td>\n",
       "    </tr>\n",
       "  </tbody>\n",
       "</table>\n",
       "</div>"
      ],
      "text/plain": [
       "                      day         month  year  Temperature        RH  \\\n",
       "day          1.000000e+00  2.232788e-17   NaN     0.095772 -0.074209   \n",
       "month        2.232788e-17  1.000000e+00   NaN    -0.059017 -0.037884   \n",
       "year                  NaN           NaN   NaN          NaN       NaN   \n",
       "Temperature  9.577222e-02 -5.901677e-02   NaN     1.000000 -0.654443   \n",
       "RH          -7.420934e-02 -3.788419e-02   NaN    -0.654443  1.000000   \n",
       "Ws           4.700086e-02 -4.144673e-02   NaN    -0.278132  0.236084   \n",
       "Rain        -1.122654e-01  3.532207e-02   NaN    -0.326786  0.222968   \n",
       "FFMC         2.240321e-01  1.557668e-02   NaN     0.677491 -0.645658   \n",
       "DMC          4.915710e-01  6.817778e-02   NaN     0.483105 -0.405133   \n",
       "DC           5.280626e-01  1.270623e-01   NaN     0.372942 -0.223200   \n",
       "ISI          1.777266e-01  6.168011e-02   NaN     0.607551 -0.690637   \n",
       "BUI          5.172292e-01  8.582162e-02   NaN     0.455504 -0.348587   \n",
       "FWI          3.509598e-01  8.328546e-02   NaN     0.562344 -0.574773   \n",
       "\n",
       "                   Ws      Rain      FFMC       DMC        DC       ISI  \\\n",
       "day          0.047001 -0.112265  0.224032  0.491571  0.528063  0.177727   \n",
       "month       -0.041447  0.035322  0.015577  0.068178  0.127062  0.061680   \n",
       "year              NaN       NaN       NaN       NaN       NaN       NaN   \n",
       "Temperature -0.278132 -0.326786  0.677491  0.483105  0.372942  0.607551   \n",
       "RH           0.236084  0.222968 -0.645658 -0.405133 -0.223200 -0.690637   \n",
       "Ws           1.000000  0.170169 -0.163255 -0.001246  0.077732  0.015248   \n",
       "Rain         0.170169  1.000000 -0.544045 -0.288548 -0.297507 -0.347105   \n",
       "FFMC        -0.163255 -0.544045  1.000000  0.602391  0.505571  0.739730   \n",
       "DMC         -0.001246 -0.288548  0.602391  1.000000  0.875879  0.674499   \n",
       "DC           0.077732 -0.297507  0.505571  0.875879  1.000000  0.502297   \n",
       "ISI          0.015248 -0.347105  0.739730  0.674499  0.502297  1.000000   \n",
       "BUI          0.029756 -0.299171  0.589652  0.982073  0.942005  0.635891   \n",
       "FWI          0.030910 -0.323831  0.688876  0.875791  0.739658  0.913163   \n",
       "\n",
       "                  BUI       FWI  \n",
       "day          0.517229  0.350960  \n",
       "month        0.085822  0.083285  \n",
       "year              NaN       NaN  \n",
       "Temperature  0.455504  0.562344  \n",
       "RH          -0.348587 -0.574773  \n",
       "Ws           0.029756  0.030910  \n",
       "Rain        -0.299171 -0.323831  \n",
       "FFMC         0.589652  0.688876  \n",
       "DMC          0.982073  0.875791  \n",
       "DC           0.942005  0.739658  \n",
       "ISI          0.635891  0.913163  \n",
       "BUI          1.000000  0.858065  \n",
       "FWI          0.858065  1.000000  "
      ]
     },
     "execution_count": 19,
     "metadata": {},
     "output_type": "execute_result"
    }
   ],
   "source": [
    "alf_data.corr()"
   ]
  },
  {
   "cell_type": "code",
   "execution_count": 20,
   "id": "e67c6373",
   "metadata": {},
   "outputs": [
    {
     "data": {
      "text/html": [
       "<div>\n",
       "<style scoped>\n",
       "    .dataframe tbody tr th:only-of-type {\n",
       "        vertical-align: middle;\n",
       "    }\n",
       "\n",
       "    .dataframe tbody tr th {\n",
       "        vertical-align: top;\n",
       "    }\n",
       "\n",
       "    .dataframe thead th {\n",
       "        text-align: right;\n",
       "    }\n",
       "</style>\n",
       "<table border=\"1\" class=\"dataframe\">\n",
       "  <thead>\n",
       "    <tr style=\"text-align: right;\">\n",
       "      <th></th>\n",
       "      <th>day</th>\n",
       "      <th>month</th>\n",
       "      <th>year</th>\n",
       "      <th>Temperature</th>\n",
       "      <th>RH</th>\n",
       "      <th>Ws</th>\n",
       "      <th>Rain</th>\n",
       "      <th>FFMC</th>\n",
       "      <th>DMC</th>\n",
       "      <th>DC</th>\n",
       "      <th>ISI</th>\n",
       "      <th>BUI</th>\n",
       "      <th>FWI</th>\n",
       "    </tr>\n",
       "  </thead>\n",
       "  <tbody>\n",
       "    <tr>\n",
       "      <th>0</th>\n",
       "      <td>1</td>\n",
       "      <td>6</td>\n",
       "      <td>2012</td>\n",
       "      <td>29</td>\n",
       "      <td>57</td>\n",
       "      <td>18</td>\n",
       "      <td>0.0</td>\n",
       "      <td>65.7</td>\n",
       "      <td>3.4</td>\n",
       "      <td>7.6</td>\n",
       "      <td>1.3</td>\n",
       "      <td>3.4</td>\n",
       "      <td>0.5</td>\n",
       "    </tr>\n",
       "    <tr>\n",
       "      <th>1</th>\n",
       "      <td>2</td>\n",
       "      <td>6</td>\n",
       "      <td>2012</td>\n",
       "      <td>29</td>\n",
       "      <td>61</td>\n",
       "      <td>13</td>\n",
       "      <td>1.3</td>\n",
       "      <td>64.4</td>\n",
       "      <td>4.1</td>\n",
       "      <td>7.6</td>\n",
       "      <td>1.0</td>\n",
       "      <td>3.9</td>\n",
       "      <td>0.4</td>\n",
       "    </tr>\n",
       "  </tbody>\n",
       "</table>\n",
       "</div>"
      ],
      "text/plain": [
       "   day  month  year  Temperature  RH  Ws  Rain  FFMC  DMC   DC  ISI  BUI  FWI\n",
       "0    1      6  2012           29  57  18   0.0  65.7  3.4  7.6  1.3  3.4  0.5\n",
       "1    2      6  2012           29  61  13   1.3  64.4  4.1  7.6  1.0  3.9  0.4"
      ]
     },
     "execution_count": 20,
     "metadata": {},
     "output_type": "execute_result"
    }
   ],
   "source": [
    "alf_data.head(2)"
   ]
  },
  {
   "cell_type": "code",
   "execution_count": 21,
   "id": "d21f4be7",
   "metadata": {},
   "outputs": [
    {
     "data": {
      "text/plain": [
       "<AxesSubplot:>"
      ]
     },
     "execution_count": 21,
     "metadata": {},
     "output_type": "execute_result"
    },
    {
     "data": {
      "image/png": "[encoded data removed]",
      "text/plain": [
       "<Figure size 1152x720 with 2 Axes>"
      ]
     },
     "metadata": {
      "needs_background": "light"
     },
     "output_type": "display_data"
    }
   ],
   "source": [
    "#Plotting heatmap for finding relations\n",
    "plt.figure(figsize = (16,10))\n",
    "sns.heatmap(alf_data.corr(),annot=True)"
   ]
  },
  {
   "cell_type": "code",
   "execution_count": 22,
   "id": "c9799c27",
   "metadata": {},
   "outputs": [
    {
     "data": {
      "text/plain": [
       "<matplotlib.collections.PathCollection at 0x1ca4a838e80>"
      ]
     },
     "execution_count": 22,
     "metadata": {},
     "output_type": "execute_result"
    },
    {
     "data": {
      "image/png": "[encoded data removed]",
      "text/plain": [
       "<Figure size 432x288 with 1 Axes>"
      ]
     },
     "metadata": {
      "needs_background": "light"
     },
     "output_type": "display_data"
    }
   ],
   "source": [
    "# scatter plot between DMC and Temperature\n",
    "plt.scatter(alf_data['DMC'],alf_data['Temperature'])\n"
   ]
  },
  {
   "cell_type": "code",
   "execution_count": 23,
   "id": "b9efa424",
   "metadata": {},
   "outputs": [
    {
     "data": {
      "text/plain": [
       "Text(0, 0.5, 'Temperature')"
      ]
     },
     "execution_count": 23,
     "metadata": {},
     "output_type": "execute_result"
    },
    {
     "data": {
      "image/png": "[encoded data removed]",
      "text/plain": [
       "<Figure size 432x288 with 1 Axes>"
      ]
     },
     "metadata": {
      "needs_background": "light"
     },
     "output_type": "display_data"
    }
   ],
   "source": [
    "#2.scatter plot between FFMC and Temperature\n",
    "plt.scatter(alf_data['FFMC'],alf_data['Temperature'])\n",
    "plt.xlabel(\"FFMC\")\n",
    "plt.ylabel(\"Temperature\")"
   ]
  },
  {
   "cell_type": "code",
   "execution_count": 24,
   "id": "25cbeabe",
   "metadata": {},
   "outputs": [
    {
     "data": {
      "text/plain": [
       "Text(0, 0.5, 'Temperature')"
      ]
     },
     "execution_count": 24,
     "metadata": {},
     "output_type": "execute_result"
    },
    {
     "data": {
      "image/png": "[encoded data removed]",
      "text/plain": [
       "<Figure size 432x288 with 1 Axes>"
      ]
     },
     "metadata": {
      "needs_background": "light"
     },
     "output_type": "display_data"
    }
   ],
   "source": [
    "# scatter plot between RH and Temperature\n",
    "plt.scatter(alf_data['RH'],alf_data['Temperature'])\n",
    "plt.xlabel(\"RH\")\n",
    "plt.ylabel(\"Temperature\")"
   ]
  },
  {
   "cell_type": "code",
   "execution_count": 25,
   "id": "cff48aab",
   "metadata": {},
   "outputs": [],
   "source": [
    "#Linear regression plot"
   ]
  },
  {
   "cell_type": "code",
   "execution_count": 26,
   "id": "83ab64b5",
   "metadata": {},
   "outputs": [
    {
     "data": {
      "text/plain": [
       "<AxesSubplot:xlabel='FFMC', ylabel='Temperature'>"
      ]
     },
     "execution_count": 26,
     "metadata": {},
     "output_type": "execute_result"
    },
    {
     "data": {
      "image/png": "[encoded data removed]",
      "text/plain": [
       "<Figure size 432x288 with 1 Axes>"
      ]
     },
     "metadata": {
      "needs_background": "light"
     },
     "output_type": "display_data"
    }
   ],
   "source": [
    "#linear regression plot between FFFC and Temperature\n",
    "sns.regplot(x=alf_data['FFMC'],y=alf_data['Temperature'])"
   ]
  },
  {
   "cell_type": "code",
   "execution_count": 27,
   "id": "47cc27d5",
   "metadata": {},
   "outputs": [
    {
     "data": {
      "text/plain": [
       "<AxesSubplot:xlabel='DMC', ylabel='Temperature'>"
      ]
     },
     "execution_count": 27,
     "metadata": {},
     "output_type": "execute_result"
    },
    {
     "data": {
      "image/png": "[encoded data removed]",
      "text/plain": [
       "<Figure size 432x288 with 1 Axes>"
      ]
     },
     "metadata": {
      "needs_background": "light"
     },
     "output_type": "display_data"
    }
   ],
   "source": [
    "#linear regression plot between DMC and Temperature\n",
    "sns.regplot(x=alf_data['DMC'],y=alf_data['Temperature'])"
   ]
  },
  {
   "cell_type": "code",
   "execution_count": 28,
   "id": "141b67e4",
   "metadata": {},
   "outputs": [
    {
     "data": {
      "text/plain": [
       "<AxesSubplot:xlabel='DC', ylabel='Temperature'>"
      ]
     },
     "execution_count": 28,
     "metadata": {},
     "output_type": "execute_result"
    },
    {
     "data": {
      "image/png": "[encoded data removed]",
      "text/plain": [
       "<Figure size 432x288 with 1 Axes>"
      ]
     },
     "metadata": {
      "needs_background": "light"
     },
     "output_type": "display_data"
    }
   ],
   "source": [
    "#linear regression plot between DC and Temperature\n",
    "sns.regplot(x=alf_data['DC'],y=alf_data['Temperature'])"
   ]
  },
  {
   "cell_type": "code",
   "execution_count": 29,
   "id": "6cac46b0",
   "metadata": {},
   "outputs": [
    {
     "data": {
      "text/plain": [
       "<AxesSubplot:xlabel='RH', ylabel='Temperature'>"
      ]
     },
     "execution_count": 29,
     "metadata": {},
     "output_type": "execute_result"
    },
    {
     "data": {
      "image/png": "[encoded data removed]",
      "text/plain": [
       "<Figure size 432x288 with 1 Axes>"
      ]
     },
     "metadata": {
      "needs_background": "light"
     },
     "output_type": "display_data"
    }
   ],
   "source": [
    "#linear regression plot between RH and Temperature\n",
    "sns.regplot(x=alf_data['RH'],y=alf_data['Temperature'])"
   ]
  },
  {
   "cell_type": "code",
   "execution_count": 30,
   "id": "c5dab275",
   "metadata": {},
   "outputs": [
    {
     "data": {
      "text/plain": [
       "<AxesSubplot:xlabel='FWI', ylabel='Temperature'>"
      ]
     },
     "execution_count": 30,
     "metadata": {},
     "output_type": "execute_result"
    },
    {
     "data": {
      "image/png": "[encoded data removed]",
      "text/plain": [
       "<Figure size 432x288 with 1 Axes>"
      ]
     },
     "metadata": {
      "needs_background": "light"
     },
     "output_type": "display_data"
    }
   ],
   "source": [
    "#linear regression plot between FWI and Temperature\n",
    "sns.regplot(x=alf_data['FWI'],y=alf_data['Temperature'])"
   ]
  },
  {
   "cell_type": "code",
   "execution_count": 31,
   "id": "65abac42",
   "metadata": {},
   "outputs": [
    {
     "data": {
      "text/plain": [
       "<AxesSubplot:xlabel='Rain', ylabel='Temperature'>"
      ]
     },
     "execution_count": 31,
     "metadata": {},
     "output_type": "execute_result"
    },
    {
     "data": {
      "image/png": "[encoded data removed]",
      "text/plain": [
       "<Figure size 432x288 with 1 Axes>"
      ]
     },
     "metadata": {
      "needs_background": "light"
     },
     "output_type": "display_data"
    }
   ],
   "source": [
    "#linear regression plot between Rain and Temperature\n",
    "sns.regplot(x=alf_data['Rain'],y=alf_data['Temperature'])"
   ]
  },
  {
   "cell_type": "code",
   "execution_count": 32,
   "id": "c9c56dc0",
   "metadata": {},
   "outputs": [],
   "source": [
    "# Remove not important features for model\n",
    "alf_data=alf_data=alf_data.drop(['day','month','year'],axis=1)"
   ]
  },
  {
   "cell_type": "code",
   "execution_count": 33,
   "id": "a9024539",
   "metadata": {},
   "outputs": [
    {
     "data": {
      "text/html": [
       "<div>\n",
       "<style scoped>\n",
       "    .dataframe tbody tr th:only-of-type {\n",
       "        vertical-align: middle;\n",
       "    }\n",
       "\n",
       "    .dataframe tbody tr th {\n",
       "        vertical-align: top;\n",
       "    }\n",
       "\n",
       "    .dataframe thead th {\n",
       "        text-align: right;\n",
       "    }\n",
       "</style>\n",
       "<table border=\"1\" class=\"dataframe\">\n",
       "  <thead>\n",
       "    <tr style=\"text-align: right;\">\n",
       "      <th></th>\n",
       "      <th>Temperature</th>\n",
       "      <th>RH</th>\n",
       "      <th>Ws</th>\n",
       "      <th>Rain</th>\n",
       "      <th>FFMC</th>\n",
       "      <th>DMC</th>\n",
       "      <th>DC</th>\n",
       "      <th>ISI</th>\n",
       "      <th>BUI</th>\n",
       "      <th>FWI</th>\n",
       "    </tr>\n",
       "  </thead>\n",
       "  <tbody>\n",
       "    <tr>\n",
       "      <th>0</th>\n",
       "      <td>29</td>\n",
       "      <td>57</td>\n",
       "      <td>18</td>\n",
       "      <td>0.0</td>\n",
       "      <td>65.7</td>\n",
       "      <td>3.4</td>\n",
       "      <td>7.6</td>\n",
       "      <td>1.3</td>\n",
       "      <td>3.4</td>\n",
       "      <td>0.5</td>\n",
       "    </tr>\n",
       "    <tr>\n",
       "      <th>1</th>\n",
       "      <td>29</td>\n",
       "      <td>61</td>\n",
       "      <td>13</td>\n",
       "      <td>1.3</td>\n",
       "      <td>64.4</td>\n",
       "      <td>4.1</td>\n",
       "      <td>7.6</td>\n",
       "      <td>1.0</td>\n",
       "      <td>3.9</td>\n",
       "      <td>0.4</td>\n",
       "    </tr>\n",
       "  </tbody>\n",
       "</table>\n",
       "</div>"
      ],
      "text/plain": [
       "   Temperature  RH  Ws  Rain  FFMC  DMC   DC  ISI  BUI  FWI\n",
       "0           29  57  18   0.0  65.7  3.4  7.6  1.3  3.4  0.5\n",
       "1           29  61  13   1.3  64.4  4.1  7.6  1.0  3.9  0.4"
      ]
     },
     "execution_count": 33,
     "metadata": {},
     "output_type": "execute_result"
    }
   ],
   "source": [
    "\n",
    "alf_data.head(2)"
   ]
  },
  {
   "cell_type": "code",
   "execution_count": 34,
   "id": "03ff4d7c",
   "metadata": {},
   "outputs": [
    {
     "data": {
      "text/html": [
       "<div>\n",
       "<style scoped>\n",
       "    .dataframe tbody tr th:only-of-type {\n",
       "        vertical-align: middle;\n",
       "    }\n",
       "\n",
       "    .dataframe tbody tr th {\n",
       "        vertical-align: top;\n",
       "    }\n",
       "\n",
       "    .dataframe thead th {\n",
       "        text-align: right;\n",
       "    }\n",
       "</style>\n",
       "<table border=\"1\" class=\"dataframe\">\n",
       "  <thead>\n",
       "    <tr style=\"text-align: right;\">\n",
       "      <th></th>\n",
       "      <th>Temperature</th>\n",
       "      <th>RH</th>\n",
       "      <th>Ws</th>\n",
       "      <th>Rain</th>\n",
       "      <th>FFMC</th>\n",
       "      <th>DMC</th>\n",
       "      <th>DC</th>\n",
       "      <th>ISI</th>\n",
       "      <th>BUI</th>\n",
       "      <th>FWI</th>\n",
       "    </tr>\n",
       "  </thead>\n",
       "  <tbody>\n",
       "    <tr>\n",
       "      <th>0</th>\n",
       "      <td>29</td>\n",
       "      <td>57</td>\n",
       "      <td>18</td>\n",
       "      <td>0.0</td>\n",
       "      <td>65.7</td>\n",
       "      <td>3.4</td>\n",
       "      <td>7.6</td>\n",
       "      <td>1.3</td>\n",
       "      <td>3.4</td>\n",
       "      <td>0.5</td>\n",
       "    </tr>\n",
       "    <tr>\n",
       "      <th>1</th>\n",
       "      <td>29</td>\n",
       "      <td>61</td>\n",
       "      <td>13</td>\n",
       "      <td>1.3</td>\n",
       "      <td>64.4</td>\n",
       "      <td>4.1</td>\n",
       "      <td>7.6</td>\n",
       "      <td>1.0</td>\n",
       "      <td>3.9</td>\n",
       "      <td>0.4</td>\n",
       "    </tr>\n",
       "    <tr>\n",
       "      <th>2</th>\n",
       "      <td>26</td>\n",
       "      <td>82</td>\n",
       "      <td>22</td>\n",
       "      <td>13.1</td>\n",
       "      <td>47.1</td>\n",
       "      <td>2.5</td>\n",
       "      <td>7.1</td>\n",
       "      <td>0.3</td>\n",
       "      <td>2.7</td>\n",
       "      <td>0.1</td>\n",
       "    </tr>\n",
       "  </tbody>\n",
       "</table>\n",
       "</div>"
      ],
      "text/plain": [
       "   Temperature  RH  Ws  Rain  FFMC  DMC   DC  ISI  BUI  FWI\n",
       "0           29  57  18   0.0  65.7  3.4  7.6  1.3  3.4  0.5\n",
       "1           29  61  13   1.3  64.4  4.1  7.6  1.0  3.9  0.4\n",
       "2           26  82  22  13.1  47.1  2.5  7.1  0.3  2.7  0.1"
      ]
     },
     "execution_count": 34,
     "metadata": {},
     "output_type": "execute_result"
    }
   ],
   "source": [
    "alf_data.head(3)"
   ]
  },
  {
   "cell_type": "code",
   "execution_count": 35,
   "id": "67678981",
   "metadata": {},
   "outputs": [
    {
     "name": "stderr",
     "output_type": "stream",
     "text": [
      "C:\\Users\\HP\\Anaconda3\\lib\\site-packages\\seaborn\\_decorators.py:36: FutureWarning: Pass the following variable as a keyword arg: x. From version 0.12, the only valid positional argument will be `data`, and passing other arguments without an explicit keyword will result in an error or misinterpretation.\n",
      "  warnings.warn(\n",
      "C:\\Users\\HP\\Anaconda3\\lib\\site-packages\\seaborn\\_decorators.py:36: FutureWarning: Pass the following variable as a keyword arg: x. From version 0.12, the only valid positional argument will be `data`, and passing other arguments without an explicit keyword will result in an error or misinterpretation.\n",
      "  warnings.warn(\n",
      "C:\\Users\\HP\\Anaconda3\\lib\\site-packages\\seaborn\\_decorators.py:36: FutureWarning: Pass the following variable as a keyword arg: x. From version 0.12, the only valid positional argument will be `data`, and passing other arguments without an explicit keyword will result in an error or misinterpretation.\n",
      "  warnings.warn(\n",
      "C:\\Users\\HP\\Anaconda3\\lib\\site-packages\\seaborn\\_decorators.py:36: FutureWarning: Pass the following variable as a keyword arg: x. From version 0.12, the only valid positional argument will be `data`, and passing other arguments without an explicit keyword will result in an error or misinterpretation.\n",
      "  warnings.warn(\n",
      "C:\\Users\\HP\\Anaconda3\\lib\\site-packages\\seaborn\\_decorators.py:36: FutureWarning: Pass the following variable as a keyword arg: x. From version 0.12, the only valid positional argument will be `data`, and passing other arguments without an explicit keyword will result in an error or misinterpretation.\n",
      "  warnings.warn(\n",
      "C:\\Users\\HP\\Anaconda3\\lib\\site-packages\\seaborn\\_decorators.py:36: FutureWarning: Pass the following variable as a keyword arg: x. From version 0.12, the only valid positional argument will be `data`, and passing other arguments without an explicit keyword will result in an error or misinterpretation.\n",
      "  warnings.warn(\n",
      "C:\\Users\\HP\\Anaconda3\\lib\\site-packages\\seaborn\\_decorators.py:36: FutureWarning: Pass the following variable as a keyword arg: x. From version 0.12, the only valid positional argument will be `data`, and passing other arguments without an explicit keyword will result in an error or misinterpretation.\n",
      "  warnings.warn(\n",
      "C:\\Users\\HP\\Anaconda3\\lib\\site-packages\\seaborn\\_decorators.py:36: FutureWarning: Pass the following variable as a keyword arg: x. From version 0.12, the only valid positional argument will be `data`, and passing other arguments without an explicit keyword will result in an error or misinterpretation.\n",
      "  warnings.warn(\n",
      "C:\\Users\\HP\\Anaconda3\\lib\\site-packages\\seaborn\\_decorators.py:36: FutureWarning: Pass the following variable as a keyword arg: x. From version 0.12, the only valid positional argument will be `data`, and passing other arguments without an explicit keyword will result in an error or misinterpretation.\n",
      "  warnings.warn(\n",
      "C:\\Users\\HP\\Anaconda3\\lib\\site-packages\\seaborn\\_decorators.py:36: FutureWarning: Pass the following variable as a keyword arg: x. From version 0.12, the only valid positional argument will be `data`, and passing other arguments without an explicit keyword will result in an error or misinterpretation.\n",
      "  warnings.warn(\n"
     ]
    },
    {
     "data": {
      "image/png": "[encoded data removed]",
      "text/plain": [
       "<Figure size 1440x1800 with 10 Axes>"
      ]
     },
     "metadata": {},
     "output_type": "display_data"
    }
   ],
   "source": [
    "#Finding  outliers for all columns\n",
    "plt.figure(figsize=(20,25), facecolor='white')\n",
    "plotnumber = 1\n",
    "\n",
    "for column in alf_data:\n",
    "    if plotnumber<=10 :\n",
    "        ax = plt.subplot(4,3,plotnumber)\n",
    "        sns.boxplot(alf_data[column])\n",
    "        plt.xlabel(column,fontsize=20)\n",
    "        #plt.ylabel('Salary',fontsize=20)\n",
    "    plotnumber+=1\n",
    "plt.show()\n"
   ]
  },
  {
   "cell_type": "markdown",
   "id": "6b8c380f",
   "metadata": {},
   "source": [
    "# Handling outlier using transformation"
   ]
  },
  {
   "cell_type": "code",
   "execution_count": 36,
   "id": "ce87f8dc",
   "metadata": {},
   "outputs": [],
   "source": [
    "import scipy.stats as stat"
   ]
  },
  {
   "cell_type": "code",
   "execution_count": 37,
   "id": "3affdeca",
   "metadata": {},
   "outputs": [
    {
     "name": "stderr",
     "output_type": "stream",
     "text": [
      "C:\\Users\\HP\\Anaconda3\\lib\\site-packages\\seaborn\\_decorators.py:36: FutureWarning: Pass the following variable as a keyword arg: x. From version 0.12, the only valid positional argument will be `data`, and passing other arguments without an explicit keyword will result in an error or misinterpretation.\n",
      "  warnings.warn(\n"
     ]
    },
    {
     "data": {
      "image/png": "[encoded data removed]",
      "text/plain": [
       "<Figure size 432x288 with 1 Axes>"
      ]
     },
     "metadata": {
      "needs_background": "light"
     },
     "output_type": "display_data"
    },
    {
     "name": "stderr",
     "output_type": "stream",
     "text": [
      "C:\\Users\\HP\\Anaconda3\\lib\\site-packages\\seaborn\\_decorators.py:36: FutureWarning: Pass the following variable as a keyword arg: x. From version 0.12, the only valid positional argument will be `data`, and passing other arguments without an explicit keyword will result in an error or misinterpretation.\n",
      "  warnings.warn(\n"
     ]
    },
    {
     "data": {
      "image/png": "[encoded data removed]",
      "text/plain": [
       "<Figure size 432x288 with 1 Axes>"
      ]
     },
     "metadata": {
      "needs_background": "light"
     },
     "output_type": "display_data"
    }
   ],
   "source": [
    "#Mean implication in Ws column\n",
    "sns.boxplot(alf_data['Ws'])\n",
    "plt.title('Box plot before outlier removing')\n",
    "plt.show()\n",
    "for i in alf_data['Ws']:\n",
    "    q1=alf_data['Ws'].quantile(0.25)\n",
    "    q3=alf_data['Ws'].quantile(0.75)\n",
    "    iqr=q3-q1\n",
    "    Lower_tail=q1-(1.5*iqr)\n",
    "    Upper_tail=q3+(1.5*iqr)\n",
    "    \n",
    "    if i>Upper_tail or i<Lower_tail:\n",
    "        alf_data['Ws']=alf_data['Ws'].replace(i,np.mean(alf_data['Ws']))\n",
    "        \n",
    "sns.boxplot(alf_data['Ws'])\n",
    "plt.title('Box plot after outlier removing')\n",
    "plt.show()"
   ]
  },
  {
   "cell_type": "code",
   "execution_count": 38,
   "id": "3b70b4f9",
   "metadata": {},
   "outputs": [
    {
     "name": "stderr",
     "output_type": "stream",
     "text": [
      "C:\\Users\\HP\\Anaconda3\\lib\\site-packages\\seaborn\\_decorators.py:36: FutureWarning: Pass the following variable as a keyword arg: x. From version 0.12, the only valid positional argument will be `data`, and passing other arguments without an explicit keyword will result in an error or misinterpretation.\n",
      "  warnings.warn(\n"
     ]
    },
    {
     "data": {
      "image/png": "[encoded data removed]",
      "text/plain": [
       "<Figure size 432x288 with 1 Axes>"
      ]
     },
     "metadata": {
      "needs_background": "light"
     },
     "output_type": "display_data"
    },
    {
     "name": "stderr",
     "output_type": "stream",
     "text": [
      "C:\\Users\\HP\\Anaconda3\\lib\\site-packages\\seaborn\\_decorators.py:36: FutureWarning: Pass the following variable as a keyword arg: x. From version 0.12, the only valid positional argument will be `data`, and passing other arguments without an explicit keyword will result in an error or misinterpretation.\n",
      "  warnings.warn(\n"
     ]
    },
    {
     "data": {
      "image/png": "[encoded data removed]",
      "text/plain": [
       "<Figure size 432x288 with 1 Axes>"
      ]
     },
     "metadata": {
      "needs_background": "light"
     },
     "output_type": "display_data"
    }
   ],
   "source": [
    "#yeojohnson transformation for Rain column\n",
    "sns.boxplot(alf_data['Rain'])\n",
    "plt.title('Box plot before outlier removing')\n",
    "plt.show()\n",
    "alf_data['Rain'],lmbda=stat.yeojohnson(alf_data['Rain'])\n",
    "sns.boxplot(alf_data['Rain'])\n",
    "plt.title('Box plot after outlier removing')\n",
    "plt.show()"
   ]
  },
  {
   "cell_type": "code",
   "execution_count": 39,
   "id": "02eb25d4",
   "metadata": {},
   "outputs": [
    {
     "name": "stderr",
     "output_type": "stream",
     "text": [
      "C:\\Users\\HP\\Anaconda3\\lib\\site-packages\\seaborn\\_decorators.py:36: FutureWarning: Pass the following variable as a keyword arg: x. From version 0.12, the only valid positional argument will be `data`, and passing other arguments without an explicit keyword will result in an error or misinterpretation.\n",
      "  warnings.warn(\n"
     ]
    },
    {
     "data": {
      "image/png": "[encoded data removed]",
      "text/plain": [
       "<Figure size 432x288 with 1 Axes>"
      ]
     },
     "metadata": {
      "needs_background": "light"
     },
     "output_type": "display_data"
    },
    {
     "name": "stderr",
     "output_type": "stream",
     "text": [
      "C:\\Users\\HP\\Anaconda3\\lib\\site-packages\\seaborn\\_decorators.py:36: FutureWarning: Pass the following variable as a keyword arg: x. From version 0.12, the only valid positional argument will be `data`, and passing other arguments without an explicit keyword will result in an error or misinterpretation.\n",
      "  warnings.warn(\n"
     ]
    },
    {
     "data": {
      "image/png": "[encoded data removed]",
      "text/plain": [
       "<Figure size 432x288 with 1 Axes>"
      ]
     },
     "metadata": {
      "needs_background": "light"
     },
     "output_type": "display_data"
    }
   ],
   "source": [
    "#Box-cox transformation for FFMC column\n",
    "sns.boxplot(alf_data['FFMC'])\n",
    "plt.title('Box plot before outlier removing')\n",
    "plt.show()\n",
    "alf_data['FFMC'],fitted_lambda=stat.boxcox(alf_data['FFMC'],lmbda=None)\n",
    "sns.boxplot(alf_data['FFMC'])\n",
    "plt.title('Box plot after outlier removing')\n",
    "plt.show()"
   ]
  },
  {
   "cell_type": "code",
   "execution_count": 40,
   "id": "e88cf216",
   "metadata": {},
   "outputs": [
    {
     "name": "stderr",
     "output_type": "stream",
     "text": [
      "C:\\Users\\HP\\Anaconda3\\lib\\site-packages\\seaborn\\_decorators.py:36: FutureWarning: Pass the following variable as a keyword arg: x. From version 0.12, the only valid positional argument will be `data`, and passing other arguments without an explicit keyword will result in an error or misinterpretation.\n",
      "  warnings.warn(\n"
     ]
    },
    {
     "data": {
      "image/png": "[encoded data removed]",
      "text/plain": [
       "<Figure size 432x288 with 1 Axes>"
      ]
     },
     "metadata": {
      "needs_background": "light"
     },
     "output_type": "display_data"
    },
    {
     "name": "stderr",
     "output_type": "stream",
     "text": [
      "C:\\Users\\HP\\Anaconda3\\lib\\site-packages\\seaborn\\_decorators.py:36: FutureWarning: Pass the following variable as a keyword arg: x. From version 0.12, the only valid positional argument will be `data`, and passing other arguments without an explicit keyword will result in an error or misinterpretation.\n",
      "  warnings.warn(\n"
     ]
    },
    {
     "data": {
      "image/png": "[encoded data removed]",
      "text/plain": [
       "<Figure size 432x288 with 1 Axes>"
      ]
     },
     "metadata": {
      "needs_background": "light"
     },
     "output_type": "display_data"
    }
   ],
   "source": [
    "#Box-cox transformation for DMC column\n",
    "sns.boxplot(alf_data['DMC'])\n",
    "plt.title('Box plot before outlier removing')\n",
    "plt.show()\n",
    "alf_data['DMC'],fitted_lambda=stat.boxcox(alf_data['DMC'],lmbda=None)\n",
    "sns.boxplot(alf_data['DMC'])\n",
    "plt.title('Box plot after outlier removing')\n",
    "plt.show()"
   ]
  },
  {
   "cell_type": "code",
   "execution_count": 41,
   "id": "09046b86",
   "metadata": {},
   "outputs": [
    {
     "name": "stderr",
     "output_type": "stream",
     "text": [
      "C:\\Users\\HP\\Anaconda3\\lib\\site-packages\\seaborn\\_decorators.py:36: FutureWarning: Pass the following variable as a keyword arg: x. From version 0.12, the only valid positional argument will be `data`, and passing other arguments without an explicit keyword will result in an error or misinterpretation.\n",
      "  warnings.warn(\n"
     ]
    },
    {
     "data": {
      "image/png": "[encoded data removed]",
      "text/plain": [
       "<Figure size 432x288 with 1 Axes>"
      ]
     },
     "metadata": {
      "needs_background": "light"
     },
     "output_type": "display_data"
    },
    {
     "name": "stderr",
     "output_type": "stream",
     "text": [
      "C:\\Users\\HP\\Anaconda3\\lib\\site-packages\\seaborn\\_decorators.py:36: FutureWarning: Pass the following variable as a keyword arg: x. From version 0.12, the only valid positional argument will be `data`, and passing other arguments without an explicit keyword will result in an error or misinterpretation.\n",
      "  warnings.warn(\n"
     ]
    },
    {
     "data": {
      "image/png": "[encoded data removed]",
      "text/plain": [
       "<Figure size 432x288 with 1 Axes>"
      ]
     },
     "metadata": {
      "needs_background": "light"
     },
     "output_type": "display_data"
    }
   ],
   "source": [
    "#Box-cox transformation for DMC column\n",
    "sns.boxplot(alf_data['DC'])\n",
    "plt.title('Box plot before outlier removing')\n",
    "plt.show()\n",
    "alf_data['DC'],fitted_lambda=stat.boxcox(alf_data['DC'],lmbda=None)\n",
    "sns.boxplot(alf_data['DC'])\n",
    "plt.title('Box plot after outlier removing')\n",
    "plt.show()"
   ]
  },
  {
   "cell_type": "code",
   "execution_count": 42,
   "id": "2cb2dd12",
   "metadata": {},
   "outputs": [
    {
     "name": "stderr",
     "output_type": "stream",
     "text": [
      "C:\\Users\\HP\\Anaconda3\\lib\\site-packages\\seaborn\\_decorators.py:36: FutureWarning: Pass the following variable as a keyword arg: x. From version 0.12, the only valid positional argument will be `data`, and passing other arguments without an explicit keyword will result in an error or misinterpretation.\n",
      "  warnings.warn(\n"
     ]
    },
    {
     "data": {
      "image/png": "[encoded data removed]",
      "text/plain": [
       "<Figure size 432x288 with 1 Axes>"
      ]
     },
     "metadata": {
      "needs_background": "light"
     },
     "output_type": "display_data"
    },
    {
     "name": "stderr",
     "output_type": "stream",
     "text": [
      "C:\\Users\\HP\\Anaconda3\\lib\\site-packages\\seaborn\\_decorators.py:36: FutureWarning: Pass the following variable as a keyword arg: x. From version 0.12, the only valid positional argument will be `data`, and passing other arguments without an explicit keyword will result in an error or misinterpretation.\n",
      "  warnings.warn(\n"
     ]
    },
    {
     "data": {
      "image/png": "[encoded data removed]",
      "text/plain": [
       "<Figure size 432x288 with 1 Axes>"
      ]
     },
     "metadata": {
      "needs_background": "light"
     },
     "output_type": "display_data"
    }
   ],
   "source": [
    "#Box-cox transformation for DMC column\n",
    "sns.boxplot(alf_data['BUI'])\n",
    "plt.title('Box plot before outlier removing')\n",
    "plt.show()\n",
    "alf_data['BUI'],fitted_lambda=stat.boxcox(alf_data['BUI'],lmbda=None)\n",
    "sns.boxplot(alf_data['BUI'])\n",
    "plt.title('Box plot after outlier removing')\n",
    "plt.show()"
   ]
  },
  {
   "cell_type": "code",
   "execution_count": 43,
   "id": "6aa2f527",
   "metadata": {},
   "outputs": [
    {
     "name": "stderr",
     "output_type": "stream",
     "text": [
      "C:\\Users\\HP\\Anaconda3\\lib\\site-packages\\seaborn\\_decorators.py:36: FutureWarning: Pass the following variable as a keyword arg: x. From version 0.12, the only valid positional argument will be `data`, and passing other arguments without an explicit keyword will result in an error or misinterpretation.\n",
      "  warnings.warn(\n"
     ]
    },
    {
     "data": {
      "image/png": "[encoded data removed]",
      "text/plain": [
       "<Figure size 432x288 with 1 Axes>"
      ]
     },
     "metadata": {
      "needs_background": "light"
     },
     "output_type": "display_data"
    },
    {
     "name": "stderr",
     "output_type": "stream",
     "text": [
      "C:\\Users\\HP\\Anaconda3\\lib\\site-packages\\seaborn\\_decorators.py:36: FutureWarning: Pass the following variable as a keyword arg: x. From version 0.12, the only valid positional argument will be `data`, and passing other arguments without an explicit keyword will result in an error or misinterpretation.\n",
      "  warnings.warn(\n"
     ]
    },
    {
     "data": {
      "image/png": "[encoded data removed]",
      "text/plain": [
       "<Figure size 432x288 with 1 Axes>"
      ]
     },
     "metadata": {
      "needs_background": "light"
     },
     "output_type": "display_data"
    }
   ],
   "source": [
    "#yeojohnson transformation for Rain column\n",
    "sns.boxplot(alf_data['ISI'])\n",
    "plt.title('Box plot before outlier removing')\n",
    "plt.show()\n",
    "alf_data['ISI'],lmbda=stat.yeojohnson(alf_data['ISI'])\n",
    "sns.boxplot(alf_data['ISI'])\n",
    "plt.title('Box plot after outlier removing')\n",
    "plt.show()"
   ]
  },
  {
   "cell_type": "code",
   "execution_count": 44,
   "id": "65935b3f",
   "metadata": {},
   "outputs": [],
   "source": [
    "# Seperating independent and dependent column\n",
    "X=alf_data.drop(columns=['Temperature'])\n",
    "y=alf_data['Temperature']"
   ]
  },
  {
   "cell_type": "code",
   "execution_count": 45,
   "id": "b4e52d86",
   "metadata": {},
   "outputs": [
    {
     "data": {
      "text/html": [
       "<div>\n",
       "<style scoped>\n",
       "    .dataframe tbody tr th:only-of-type {\n",
       "        vertical-align: middle;\n",
       "    }\n",
       "\n",
       "    .dataframe tbody tr th {\n",
       "        vertical-align: top;\n",
       "    }\n",
       "\n",
       "    .dataframe thead th {\n",
       "        text-align: right;\n",
       "    }\n",
       "</style>\n",
       "<table border=\"1\" class=\"dataframe\">\n",
       "  <thead>\n",
       "    <tr style=\"text-align: right;\">\n",
       "      <th></th>\n",
       "      <th>RH</th>\n",
       "      <th>Ws</th>\n",
       "      <th>Rain</th>\n",
       "      <th>FFMC</th>\n",
       "      <th>DMC</th>\n",
       "      <th>DC</th>\n",
       "      <th>ISI</th>\n",
       "      <th>BUI</th>\n",
       "      <th>FWI</th>\n",
       "    </tr>\n",
       "  </thead>\n",
       "  <tbody>\n",
       "    <tr>\n",
       "      <th>0</th>\n",
       "      <td>57</td>\n",
       "      <td>18.000000</td>\n",
       "      <td>-0.000000</td>\n",
       "      <td>5.015206e+06</td>\n",
       "      <td>1.384133</td>\n",
       "      <td>1.973851</td>\n",
       "      <td>0.850163</td>\n",
       "      <td>1.330074</td>\n",
       "      <td>0.5</td>\n",
       "    </tr>\n",
       "    <tr>\n",
       "      <th>1</th>\n",
       "      <td>61</td>\n",
       "      <td>13.000000</td>\n",
       "      <td>0.367764</td>\n",
       "      <td>4.628154e+06</td>\n",
       "      <td>1.626917</td>\n",
       "      <td>1.973851</td>\n",
       "      <td>0.705069</td>\n",
       "      <td>1.493280</td>\n",
       "      <td>0.4</td>\n",
       "    </tr>\n",
       "    <tr>\n",
       "      <th>2</th>\n",
       "      <td>82</td>\n",
       "      <td>15.504098</td>\n",
       "      <td>0.428647</td>\n",
       "      <td>1.316429e+06</td>\n",
       "      <td>1.004326</td>\n",
       "      <td>1.909350</td>\n",
       "      <td>0.264060</td>\n",
       "      <td>1.062538</td>\n",
       "      <td>0.1</td>\n",
       "    </tr>\n",
       "    <tr>\n",
       "      <th>3</th>\n",
       "      <td>89</td>\n",
       "      <td>13.000000</td>\n",
       "      <td>0.406304</td>\n",
       "      <td>1.773006e+05</td>\n",
       "      <td>0.269272</td>\n",
       "      <td>1.882232</td>\n",
       "      <td>0.000000</td>\n",
       "      <td>0.549991</td>\n",
       "      <td>0.0</td>\n",
       "    </tr>\n",
       "    <tr>\n",
       "      <th>4</th>\n",
       "      <td>77</td>\n",
       "      <td>16.000000</td>\n",
       "      <td>-0.000000</td>\n",
       "      <td>4.744767e+06</td>\n",
       "      <td>1.226745</td>\n",
       "      <td>2.560831</td>\n",
       "      <td>0.803908</td>\n",
       "      <td>1.493280</td>\n",
       "      <td>0.5</td>\n",
       "    </tr>\n",
       "    <tr>\n",
       "      <th>...</th>\n",
       "      <td>...</td>\n",
       "      <td>...</td>\n",
       "      <td>...</td>\n",
       "      <td>...</td>\n",
       "      <td>...</td>\n",
       "      <td>...</td>\n",
       "      <td>...</td>\n",
       "      <td>...</td>\n",
       "      <td>...</td>\n",
       "    </tr>\n",
       "    <tr>\n",
       "      <th>239</th>\n",
       "      <td>65</td>\n",
       "      <td>14.000000</td>\n",
       "      <td>-0.000000</td>\n",
       "      <td>1.438788e+07</td>\n",
       "      <td>3.690222</td>\n",
       "      <td>3.608281</td>\n",
       "      <td>1.778077</td>\n",
       "      <td>3.438936</td>\n",
       "      <td>6.5</td>\n",
       "    </tr>\n",
       "    <tr>\n",
       "      <th>240</th>\n",
       "      <td>87</td>\n",
       "      <td>15.000000</td>\n",
       "      <td>0.421082</td>\n",
       "      <td>7.613248e+05</td>\n",
       "      <td>2.264151</td>\n",
       "      <td>2.022389</td>\n",
       "      <td>0.095533</td>\n",
       "      <td>2.067500</td>\n",
       "      <td>0.0</td>\n",
       "    </tr>\n",
       "    <tr>\n",
       "      <th>241</th>\n",
       "      <td>87</td>\n",
       "      <td>15.529611</td>\n",
       "      <td>0.262415</td>\n",
       "      <td>1.186736e+06</td>\n",
       "      <td>1.421141</td>\n",
       "      <td>2.010492</td>\n",
       "      <td>0.339265</td>\n",
       "      <td>1.330074</td>\n",
       "      <td>0.2</td>\n",
       "    </tr>\n",
       "    <tr>\n",
       "      <th>242</th>\n",
       "      <td>54</td>\n",
       "      <td>18.000000</td>\n",
       "      <td>0.085477</td>\n",
       "      <td>1.090023e+07</td>\n",
       "      <td>1.690127</td>\n",
       "      <td>2.624142</td>\n",
       "      <td>1.017853</td>\n",
       "      <td>1.821209</td>\n",
       "      <td>0.7</td>\n",
       "    </tr>\n",
       "    <tr>\n",
       "      <th>243</th>\n",
       "      <td>64</td>\n",
       "      <td>15.000000</td>\n",
       "      <td>0.148568</td>\n",
       "      <td>5.524382e+06</td>\n",
       "      <td>1.527293</td>\n",
       "      <td>2.700333</td>\n",
       "      <td>0.803908</td>\n",
       "      <td>1.746064</td>\n",
       "      <td>0.5</td>\n",
       "    </tr>\n",
       "  </tbody>\n",
       "</table>\n",
       "<p>244 rows × 9 columns</p>\n",
       "</div>"
      ],
      "text/plain": [
       "     RH         Ws      Rain          FFMC       DMC        DC       ISI  \\\n",
       "0    57  18.000000 -0.000000  5.015206e+06  1.384133  1.973851  0.850163   \n",
       "1    61  13.000000  0.367764  4.628154e+06  1.626917  1.973851  0.705069   \n",
       "2    82  15.504098  0.428647  1.316429e+06  1.004326  1.909350  0.264060   \n",
       "3    89  13.000000  0.406304  1.773006e+05  0.269272  1.882232  0.000000   \n",
       "4    77  16.000000 -0.000000  4.744767e+06  1.226745  2.560831  0.803908   \n",
       "..   ..        ...       ...           ...       ...       ...       ...   \n",
       "239  65  14.000000 -0.000000  1.438788e+07  3.690222  3.608281  1.778077   \n",
       "240  87  15.000000  0.421082  7.613248e+05  2.264151  2.022389  0.095533   \n",
       "241  87  15.529611  0.262415  1.186736e+06  1.421141  2.010492  0.339265   \n",
       "242  54  18.000000  0.085477  1.090023e+07  1.690127  2.624142  1.017853   \n",
       "243  64  15.000000  0.148568  5.524382e+06  1.527293  2.700333  0.803908   \n",
       "\n",
       "          BUI  FWI  \n",
       "0    1.330074  0.5  \n",
       "1    1.493280  0.4  \n",
       "2    1.062538  0.1  \n",
       "3    0.549991  0.0  \n",
       "4    1.493280  0.5  \n",
       "..        ...  ...  \n",
       "239  3.438936  6.5  \n",
       "240  2.067500  0.0  \n",
       "241  1.330074  0.2  \n",
       "242  1.821209  0.7  \n",
       "243  1.746064  0.5  \n",
       "\n",
       "[244 rows x 9 columns]"
      ]
     },
     "execution_count": 45,
     "metadata": {},
     "output_type": "execute_result"
    }
   ],
   "source": [
    "X"
   ]
  },
  {
   "cell_type": "code",
   "execution_count": 46,
   "id": "59b8b37e",
   "metadata": {},
   "outputs": [
    {
     "data": {
      "text/plain": [
       "0      29\n",
       "1      29\n",
       "2      26\n",
       "3      25\n",
       "4      27\n",
       "       ..\n",
       "239    30\n",
       "240    28\n",
       "241    27\n",
       "242    24\n",
       "243    24\n",
       "Name: Temperature, Length: 244, dtype: int64"
      ]
     },
     "execution_count": 46,
     "metadata": {},
     "output_type": "execute_result"
    }
   ],
   "source": [
    "y"
   ]
  },
  {
   "cell_type": "code",
   "execution_count": 47,
   "id": "edbc7008",
   "metadata": {},
   "outputs": [],
   "source": [
    "#splitting train and test data\n",
    "from sklearn.model_selection import train_test_split"
   ]
  },
  {
   "cell_type": "code",
   "execution_count": 48,
   "id": "bdccc937",
   "metadata": {},
   "outputs": [],
   "source": [
    "X_train, X_test, y_train, y_test = train_test_split(X, y, test_size=0.33, random_state=10)"
   ]
  },
  {
   "cell_type": "code",
   "execution_count": 49,
   "id": "b842bc4d",
   "metadata": {},
   "outputs": [
    {
     "data": {
      "text/html": [
       "<div>\n",
       "<style scoped>\n",
       "    .dataframe tbody tr th:only-of-type {\n",
       "        vertical-align: middle;\n",
       "    }\n",
       "\n",
       "    .dataframe tbody tr th {\n",
       "        vertical-align: top;\n",
       "    }\n",
       "\n",
       "    .dataframe thead th {\n",
       "        text-align: right;\n",
       "    }\n",
       "</style>\n",
       "<table border=\"1\" class=\"dataframe\">\n",
       "  <thead>\n",
       "    <tr style=\"text-align: right;\">\n",
       "      <th></th>\n",
       "      <th>RH</th>\n",
       "      <th>Ws</th>\n",
       "      <th>Rain</th>\n",
       "      <th>FFMC</th>\n",
       "      <th>DMC</th>\n",
       "      <th>DC</th>\n",
       "      <th>ISI</th>\n",
       "      <th>BUI</th>\n",
       "      <th>FWI</th>\n",
       "    </tr>\n",
       "  </thead>\n",
       "  <tbody>\n",
       "    <tr>\n",
       "      <th>237</th>\n",
       "      <td>49</td>\n",
       "      <td>15.490715</td>\n",
       "      <td>0.396267</td>\n",
       "      <td>3.795806e+06</td>\n",
       "      <td>3.193310</td>\n",
       "      <td>3.190578</td>\n",
       "      <td>0.475465</td>\n",
       "      <td>2.938061</td>\n",
       "      <td>0.4</td>\n",
       "    </tr>\n",
       "    <tr>\n",
       "      <th>78</th>\n",
       "      <td>54</td>\n",
       "      <td>18.000000</td>\n",
       "      <td>-0.000000</td>\n",
       "      <td>1.729373e+07</td>\n",
       "      <td>4.084419</td>\n",
       "      <td>4.422810</td>\n",
       "      <td>2.513576</td>\n",
       "      <td>4.174430</td>\n",
       "      <td>16.1</td>\n",
       "    </tr>\n",
       "    <tr>\n",
       "      <th>25</th>\n",
       "      <td>64</td>\n",
       "      <td>18.000000</td>\n",
       "      <td>-0.000000</td>\n",
       "      <td>1.535949e+07</td>\n",
       "      <td>3.876391</td>\n",
       "      <td>4.037507</td>\n",
       "      <td>2.146941</td>\n",
       "      <td>3.803609</td>\n",
       "      <td>10.6</td>\n",
       "    </tr>\n",
       "    <tr>\n",
       "      <th>124</th>\n",
       "      <td>80</td>\n",
       "      <td>14.000000</td>\n",
       "      <td>0.396267</td>\n",
       "      <td>1.505573e+06</td>\n",
       "      <td>0.853081</td>\n",
       "      <td>1.973851</td>\n",
       "      <td>0.264060</td>\n",
       "      <td>1.019522</td>\n",
       "      <td>0.1</td>\n",
       "    </tr>\n",
       "    <tr>\n",
       "      <th>176</th>\n",
       "      <td>64</td>\n",
       "      <td>15.407619</td>\n",
       "      <td>0.361027</td>\n",
       "      <td>8.002038e+06</td>\n",
       "      <td>3.165729</td>\n",
       "      <td>2.665964</td>\n",
       "      <td>0.755608</td>\n",
       "      <td>2.878372</td>\n",
       "      <td>0.7</td>\n",
       "    </tr>\n",
       "    <tr>\n",
       "      <th>...</th>\n",
       "      <td>...</td>\n",
       "      <td>...</td>\n",
       "      <td>...</td>\n",
       "      <td>...</td>\n",
       "      <td>...</td>\n",
       "      <td>...</td>\n",
       "      <td>...</td>\n",
       "      <td>...</td>\n",
       "      <td>...</td>\n",
       "    </tr>\n",
       "    <tr>\n",
       "      <th>64</th>\n",
       "      <td>69</td>\n",
       "      <td>13.000000</td>\n",
       "      <td>-0.000000</td>\n",
       "      <td>1.411896e+07</td>\n",
       "      <td>2.608074</td>\n",
       "      <td>2.869006</td>\n",
       "      <td>1.674693</td>\n",
       "      <td>2.431498</td>\n",
       "      <td>3.9</td>\n",
       "    </tr>\n",
       "    <tr>\n",
       "      <th>15</th>\n",
       "      <td>89</td>\n",
       "      <td>13.000000</td>\n",
       "      <td>0.304662</td>\n",
       "      <td>4.520369e+05</td>\n",
       "      <td>0.559395</td>\n",
       "      <td>1.973851</td>\n",
       "      <td>0.000000</td>\n",
       "      <td>0.831711</td>\n",
       "      <td>0.0</td>\n",
       "    </tr>\n",
       "    <tr>\n",
       "      <th>228</th>\n",
       "      <td>51</td>\n",
       "      <td>13.000000</td>\n",
       "      <td>-0.000000</td>\n",
       "      <td>1.675595e+07</td>\n",
       "      <td>3.690222</td>\n",
       "      <td>3.716940</td>\n",
       "      <td>2.175302</td>\n",
       "      <td>3.515047</td>\n",
       "      <td>9.8</td>\n",
       "    </tr>\n",
       "    <tr>\n",
       "      <th>125</th>\n",
       "      <td>64</td>\n",
       "      <td>14.000000</td>\n",
       "      <td>-0.000000</td>\n",
       "      <td>1.073627e+07</td>\n",
       "      <td>1.948343</td>\n",
       "      <td>2.636289</td>\n",
       "      <td>1.196983</td>\n",
       "      <td>1.938343</td>\n",
       "      <td>1.0</td>\n",
       "    </tr>\n",
       "    <tr>\n",
       "      <th>9</th>\n",
       "      <td>79</td>\n",
       "      <td>12.000000</td>\n",
       "      <td>-0.000000</td>\n",
       "      <td>7.743778e+06</td>\n",
       "      <td>2.834209</td>\n",
       "      <td>3.644069</td>\n",
       "      <td>0.850163</td>\n",
       "      <td>3.018077</td>\n",
       "      <td>0.9</td>\n",
       "    </tr>\n",
       "  </tbody>\n",
       "</table>\n",
       "<p>163 rows × 9 columns</p>\n",
       "</div>"
      ],
      "text/plain": [
       "     RH         Ws      Rain          FFMC       DMC        DC       ISI  \\\n",
       "237  49  15.490715  0.396267  3.795806e+06  3.193310  3.190578  0.475465   \n",
       "78   54  18.000000 -0.000000  1.729373e+07  4.084419  4.422810  2.513576   \n",
       "25   64  18.000000 -0.000000  1.535949e+07  3.876391  4.037507  2.146941   \n",
       "124  80  14.000000  0.396267  1.505573e+06  0.853081  1.973851  0.264060   \n",
       "176  64  15.407619  0.361027  8.002038e+06  3.165729  2.665964  0.755608   \n",
       "..   ..        ...       ...           ...       ...       ...       ...   \n",
       "64   69  13.000000 -0.000000  1.411896e+07  2.608074  2.869006  1.674693   \n",
       "15   89  13.000000  0.304662  4.520369e+05  0.559395  1.973851  0.000000   \n",
       "228  51  13.000000 -0.000000  1.675595e+07  3.690222  3.716940  2.175302   \n",
       "125  64  14.000000 -0.000000  1.073627e+07  1.948343  2.636289  1.196983   \n",
       "9    79  12.000000 -0.000000  7.743778e+06  2.834209  3.644069  0.850163   \n",
       "\n",
       "          BUI   FWI  \n",
       "237  2.938061   0.4  \n",
       "78   4.174430  16.1  \n",
       "25   3.803609  10.6  \n",
       "124  1.019522   0.1  \n",
       "176  2.878372   0.7  \n",
       "..        ...   ...  \n",
       "64   2.431498   3.9  \n",
       "15   0.831711   0.0  \n",
       "228  3.515047   9.8  \n",
       "125  1.938343   1.0  \n",
       "9    3.018077   0.9  \n",
       "\n",
       "[163 rows x 9 columns]"
      ]
     },
     "execution_count": 49,
     "metadata": {},
     "output_type": "execute_result"
    }
   ],
   "source": [
    "X_train"
   ]
  },
  {
   "cell_type": "code",
   "execution_count": 50,
   "id": "9087a203",
   "metadata": {},
   "outputs": [
    {
     "data": {
      "text/plain": [
       "237    26\n",
       "78     36\n",
       "25     31\n",
       "124    29\n",
       "176    39\n",
       "       ..\n",
       "64     34\n",
       "15     29\n",
       "228    32\n",
       "125    30\n",
       "9      28\n",
       "Name: Temperature, Length: 163, dtype: int64"
      ]
     },
     "execution_count": 50,
     "metadata": {},
     "output_type": "execute_result"
    }
   ],
   "source": [
    "y_train"
   ]
  },
  {
   "cell_type": "code",
   "execution_count": 51,
   "id": "e2746afc",
   "metadata": {},
   "outputs": [
    {
     "data": {
      "text/html": [
       "<div>\n",
       "<style scoped>\n",
       "    .dataframe tbody tr th:only-of-type {\n",
       "        vertical-align: middle;\n",
       "    }\n",
       "\n",
       "    .dataframe tbody tr th {\n",
       "        vertical-align: top;\n",
       "    }\n",
       "\n",
       "    .dataframe thead th {\n",
       "        text-align: right;\n",
       "    }\n",
       "</style>\n",
       "<table border=\"1\" class=\"dataframe\">\n",
       "  <thead>\n",
       "    <tr style=\"text-align: right;\">\n",
       "      <th></th>\n",
       "      <th>RH</th>\n",
       "      <th>Ws</th>\n",
       "      <th>Rain</th>\n",
       "      <th>FFMC</th>\n",
       "      <th>DMC</th>\n",
       "      <th>DC</th>\n",
       "      <th>ISI</th>\n",
       "      <th>BUI</th>\n",
       "      <th>FWI</th>\n",
       "    </tr>\n",
       "  </thead>\n",
       "  <tbody>\n",
       "    <tr>\n",
       "      <th>162</th>\n",
       "      <td>56</td>\n",
       "      <td>15.000000</td>\n",
       "      <td>0.411481</td>\n",
       "      <td>8.446782e+06</td>\n",
       "      <td>2.392998</td>\n",
       "      <td>2.184522</td>\n",
       "      <td>0.978265</td>\n",
       "      <td>2.186254</td>\n",
       "      <td>0.8</td>\n",
       "    </tr>\n",
       "    <tr>\n",
       "      <th>60</th>\n",
       "      <td>64</td>\n",
       "      <td>17.000000</td>\n",
       "      <td>-0.000000</td>\n",
       "      <td>1.564593e+07</td>\n",
       "      <td>4.967507</td>\n",
       "      <td>4.662402</td>\n",
       "      <td>2.161208</td>\n",
       "      <td>4.822733</td>\n",
       "      <td>15.7</td>\n",
       "    </tr>\n",
       "    <tr>\n",
       "      <th>61</th>\n",
       "      <td>45</td>\n",
       "      <td>14.000000</td>\n",
       "      <td>-0.000000</td>\n",
       "      <td>1.041393e+07</td>\n",
       "      <td>1.838406</td>\n",
       "      <td>2.251379</td>\n",
       "      <td>1.128762</td>\n",
       "      <td>1.720111</td>\n",
       "      <td>0.9</td>\n",
       "    </tr>\n",
       "    <tr>\n",
       "      <th>63</th>\n",
       "      <td>63</td>\n",
       "      <td>14.000000</td>\n",
       "      <td>0.196338</td>\n",
       "      <td>9.293811e+06</td>\n",
       "      <td>2.076594</td>\n",
       "      <td>2.232770</td>\n",
       "      <td>1.017853</td>\n",
       "      <td>1.915661</td>\n",
       "      <td>0.8</td>\n",
       "    </tr>\n",
       "    <tr>\n",
       "      <th>69</th>\n",
       "      <td>59</td>\n",
       "      <td>17.000000</td>\n",
       "      <td>-0.000000</td>\n",
       "      <td>1.579064e+07</td>\n",
       "      <td>3.556538</td>\n",
       "      <td>3.831088</td>\n",
       "      <td>2.175302</td>\n",
       "      <td>3.523296</td>\n",
       "      <td>9.9</td>\n",
       "    </tr>\n",
       "    <tr>\n",
       "      <th>...</th>\n",
       "      <td>...</td>\n",
       "      <td>...</td>\n",
       "      <td>...</td>\n",
       "      <td>...</td>\n",
       "      <td>...</td>\n",
       "      <td>...</td>\n",
       "      <td>...</td>\n",
       "      <td>...</td>\n",
       "      <td>...</td>\n",
       "    </tr>\n",
       "    <tr>\n",
       "      <th>169</th>\n",
       "      <td>68</td>\n",
       "      <td>15.000000</td>\n",
       "      <td>-0.000000</td>\n",
       "      <td>1.486773e+07</td>\n",
       "      <td>4.411821</td>\n",
       "      <td>3.741689</td>\n",
       "      <td>1.908713</td>\n",
       "      <td>3.957520</td>\n",
       "      <td>9.1</td>\n",
       "    </tr>\n",
       "    <tr>\n",
       "      <th>232</th>\n",
       "      <td>41</td>\n",
       "      <td>15.460141</td>\n",
       "      <td>0.085477</td>\n",
       "      <td>1.339889e+07</td>\n",
       "      <td>4.488795</td>\n",
       "      <td>4.197993</td>\n",
       "      <td>1.351241</td>\n",
       "      <td>4.252181</td>\n",
       "      <td>5.6</td>\n",
       "    </tr>\n",
       "    <tr>\n",
       "      <th>144</th>\n",
       "      <td>59</td>\n",
       "      <td>16.000000</td>\n",
       "      <td>0.320223</td>\n",
       "      <td>8.177769e+06</td>\n",
       "      <td>2.372146</td>\n",
       "      <td>2.057185</td>\n",
       "      <td>0.978265</td>\n",
       "      <td>2.167109</td>\n",
       "      <td>0.8</td>\n",
       "    </tr>\n",
       "    <tr>\n",
       "      <th>208</th>\n",
       "      <td>37</td>\n",
       "      <td>16.000000</td>\n",
       "      <td>-0.000000</td>\n",
       "      <td>1.957554e+07</td>\n",
       "      <td>6.347760</td>\n",
       "      <td>4.782569</td>\n",
       "      <td>2.825647</td>\n",
       "      <td>5.570314</td>\n",
       "      <td>30.3</td>\n",
       "    </tr>\n",
       "    <tr>\n",
       "      <th>105</th>\n",
       "      <td>76</td>\n",
       "      <td>15.450853</td>\n",
       "      <td>0.427164</td>\n",
       "      <td>1.350451e+06</td>\n",
       "      <td>0.096212</td>\n",
       "      <td>1.895891</td>\n",
       "      <td>0.339265</td>\n",
       "      <td>0.485153</td>\n",
       "      <td>0.1</td>\n",
       "    </tr>\n",
       "  </tbody>\n",
       "</table>\n",
       "<p>81 rows × 9 columns</p>\n",
       "</div>"
      ],
      "text/plain": [
       "     RH         Ws      Rain          FFMC       DMC        DC       ISI  \\\n",
       "162  56  15.000000  0.411481  8.446782e+06  2.392998  2.184522  0.978265   \n",
       "60   64  17.000000 -0.000000  1.564593e+07  4.967507  4.662402  2.161208   \n",
       "61   45  14.000000 -0.000000  1.041393e+07  1.838406  2.251379  1.128762   \n",
       "63   63  14.000000  0.196338  9.293811e+06  2.076594  2.232770  1.017853   \n",
       "69   59  17.000000 -0.000000  1.579064e+07  3.556538  3.831088  2.175302   \n",
       "..   ..        ...       ...           ...       ...       ...       ...   \n",
       "169  68  15.000000 -0.000000  1.486773e+07  4.411821  3.741689  1.908713   \n",
       "232  41  15.460141  0.085477  1.339889e+07  4.488795  4.197993  1.351241   \n",
       "144  59  16.000000  0.320223  8.177769e+06  2.372146  2.057185  0.978265   \n",
       "208  37  16.000000 -0.000000  1.957554e+07  6.347760  4.782569  2.825647   \n",
       "105  76  15.450853  0.427164  1.350451e+06  0.096212  1.895891  0.339265   \n",
       "\n",
       "          BUI   FWI  \n",
       "162  2.186254   0.8  \n",
       "60   4.822733  15.7  \n",
       "61   1.720111   0.9  \n",
       "63   1.915661   0.8  \n",
       "69   3.523296   9.9  \n",
       "..        ...   ...  \n",
       "169  3.957520   9.1  \n",
       "232  4.252181   5.6  \n",
       "144  2.167109   0.8  \n",
       "208  5.570314  30.3  \n",
       "105  0.485153   0.1  \n",
       "\n",
       "[81 rows x 9 columns]"
      ]
     },
     "execution_count": 51,
     "metadata": {},
     "output_type": "execute_result"
    }
   ],
   "source": [
    "X_test"
   ]
  },
  {
   "cell_type": "code",
   "execution_count": 52,
   "id": "f8a05356",
   "metadata": {},
   "outputs": [
    {
     "data": {
      "text/plain": [
       "162    34\n",
       "60     35\n",
       "61     36\n",
       "63     35\n",
       "69     35\n",
       "       ..\n",
       "169    33\n",
       "232    29\n",
       "144    33\n",
       "208    33\n",
       "105    22\n",
       "Name: Temperature, Length: 81, dtype: int64"
      ]
     },
     "execution_count": 52,
     "metadata": {},
     "output_type": "execute_result"
    }
   ],
   "source": [
    "y_test"
   ]
  },
  {
   "cell_type": "code",
   "execution_count": 53,
   "id": "f1d973a5",
   "metadata": {},
   "outputs": [],
   "source": [
    "# Standardization of dataset"
   ]
  },
  {
   "cell_type": "code",
   "execution_count": 54,
   "id": "4fc99833",
   "metadata": {},
   "outputs": [],
   "source": [
    "from sklearn.preprocessing import StandardScaler\n",
    "scaler=StandardScaler()\n",
    "X_train=scaler.fit_transform(X_train)"
   ]
  },
  {
   "cell_type": "code",
   "execution_count": 55,
   "id": "f3dca9f4",
   "metadata": {},
   "outputs": [
    {
     "data": {
      "text/plain": [
       "array([[-0.85631108,  0.07962704,  1.69367897, ..., -1.29657762,\n",
       "        -0.01410831, -0.86115911],\n",
       "       [-0.52508491,  1.15980929, -0.818076  , ...,  1.19571225,\n",
       "         0.97262221,  1.21906769],\n",
       "       [ 0.13736742,  1.15980929, -0.818076  , ...,  0.74737463,\n",
       "         0.67667433,  0.49032582],\n",
       "       ...,\n",
       "       [-0.72382061, -0.9925612 , -0.818076  , ...,  0.78205633,\n",
       "         0.44637665,  0.384327  ],\n",
       "       [ 0.13736742, -0.5620871 , -0.818076  , ..., -0.41427432,\n",
       "        -0.81196996, -0.78165999],\n",
       "       [ 1.13104591, -1.42303529, -0.818076  , ..., -0.83838071,\n",
       "         0.04975191, -0.79490985]])"
      ]
     },
     "execution_count": 55,
     "metadata": {},
     "output_type": "execute_result"
    }
   ],
   "source": [
    "X_train"
   ]
  },
  {
   "cell_type": "code",
   "execution_count": 56,
   "id": "4758b5ce",
   "metadata": {},
   "outputs": [],
   "source": [
    "X_test=scaler.transform(X_test)"
   ]
  },
  {
   "cell_type": "code",
   "execution_count": 57,
   "id": "a0c65d2f",
   "metadata": {},
   "outputs": [
    {
     "data": {
      "text/plain": [
       "array([[-3.92594448e-01, -1.31613003e-01,  1.79011922e+00,\n",
       "        -5.26177970e-01, -4.66434464e-01, -1.18965363e+00,\n",
       "        -6.81732593e-01, -6.14114965e-01, -8.08159699e-01],\n",
       "       [ 1.37367416e-01,  7.29335190e-01, -8.18076001e-01,\n",
       "         7.00250364e-01,  1.33060875e+00,  1.55233914e+00,\n",
       "         7.64821188e-01,  1.49002405e+00,  1.16606828e+00],\n",
       "       [-1.12129201e+00, -5.62087099e-01, -8.18076001e-01,\n",
       "        -1.91060359e-01, -8.53546834e-01, -1.11567054e+00,\n",
       "        -4.97697809e-01, -9.86137622e-01, -7.94909847e-01],\n",
       "       [ 7.11221826e-02, -5.62087099e-01,  4.26422966e-01,\n",
       "        -3.81880265e-01, -6.87288383e-01, -1.13626314e+00,\n",
       "        -6.33322048e-01, -8.30071503e-01, -8.08159699e-01],\n",
       "       [-1.93858749e-01,  7.29335190e-01, -8.18076001e-01,\n",
       "         7.24903526e-01,  3.45733261e-01,  6.32417081e-01,\n",
       "         7.82056332e-01,  4.52960679e-01,  3.97576855e-01],\n",
       "       [-5.91330147e-01,  2.98861093e-01, -8.18076001e-01,\n",
       "         9.94231198e-01,  1.56153432e+00,  1.65185126e+00,\n",
       "         1.28289604e+00,  1.67892968e+00,  2.04055853e+00],\n",
       "       [-5.91330147e-01,  1.59028338e+00, -8.18076001e-01,\n",
       "         9.54567361e-01,  5.19770969e-01,  1.17240701e+00,\n",
       "         1.23372184e+00,  7.99508991e-01,  1.11306888e+00],\n",
       "       [-5.91330147e-01,  7.29335190e-01,  8.45253973e-01,\n",
       "        -6.09535947e-02,  7.57708937e-01,  1.57530764e+00,\n",
       "        -2.25641430e-01,  1.10661480e+00, -1.32417235e-01],\n",
       "       [ 5.34838813e-01, -5.62087099e-01, -8.18076001e-01,\n",
       "         1.99540101e-01, -1.69967047e-01,  1.18915376e-01,\n",
       "        -5.98524797e-02, -9.12025568e-02, -4.37163837e-01],\n",
       "       [ 7.11221826e-02, -5.62087099e-01, -8.18076001e-01,\n",
       "         6.75767306e-01, -6.80984471e-03,  2.00970431e-01,\n",
       "         5.39801057e-01,  4.08200418e-02, -1.31685648e-02],\n",
       "       [-3.92594448e-01,  2.98861093e-01, -8.18076001e-01,\n",
       "         9.15304187e-01,  9.37261030e-01,  6.34156958e-01,\n",
       "         9.89001178e-01,  7.94385790e-01,  8.34821979e-01],\n",
       "       [ 9.98555444e-01,  2.45123157e+00,  1.65691674e+00,\n",
       "        -1.42927254e+00, -1.65915750e+00, -1.31804580e+00,\n",
       "        -9.54007191e-01, -1.61750661e+00, -8.74408960e-01],\n",
       "       [-1.84998957e+00,  2.98861093e-01,  1.23631822e-01,\n",
       "         8.37968971e-01,  5.05410216e-01,  3.99242378e-01,\n",
       "         8.81305280e-01,  4.26430592e-01,  4.77075968e-01],\n",
       "       [ 6.01084046e-01, -5.62087099e-01,  1.87967775e+00,\n",
       "        -1.17177788e+00, -1.19708566e+00, -1.23448664e+00,\n",
       "        -1.01580791e+00, -1.27010149e+00, -8.61159108e-01],\n",
       "       [-9.88801544e-01,  1.15980929e+00,  1.87532264e+00,\n",
       "        -3.05297833e-03, -1.24523817e-01, -1.16795884e+00,\n",
       "        -9.14510744e-02, -2.72465414e-01, -5.16662950e-01],\n",
       "       [ 5.34838813e-01,  2.98861093e-01, -8.18076001e-01,\n",
       "         5.55876102e-01,  1.75741409e-01, -1.70747143e-01,\n",
       "         4.98552741e-01,  5.86226110e-02, -2.64184170e-02],\n",
       "       [-5.25084914e-01, -1.85350939e+00, -2.76276417e-01,\n",
       "         2.95661516e-01, -2.90773343e-01, -1.43397033e-01,\n",
       "        -9.14510744e-02, -2.83989579e-01, -5.03413098e-01],\n",
       "       [ 1.06480068e+00, -5.62087099e-01,  1.54996024e+00,\n",
       "        -1.77844627e+00, -1.65915750e+00, -1.43666118e+00,\n",
       "        -1.65404585e+00, -1.61750661e+00, -9.00908665e-01],\n",
       "       [-1.78374434e+00, -1.31613003e-01, -8.18076001e-01,\n",
       "         1.60842342e+00,  8.92811050e-01,  3.44579514e-01,\n",
       "         1.81394508e+00,  7.47418807e-01,  1.85506060e+00],\n",
       "       [-7.90065846e-01,  2.98861093e-01, -8.18076001e-01,\n",
       "         1.04774428e+00,  1.36492385e+00,  8.49783186e-01,\n",
       "         1.16980536e+00,  1.18694873e+00,  1.37806592e+00],\n",
       "       [ 2.03612648e-01, -5.62087099e-01, -8.18076001e-01,\n",
       "         3.83762916e-01,  1.48431707e-01,  5.84216592e-01,\n",
       "         1.69889828e-01,  3.07468059e-01, -1.72166792e-01],\n",
       "       [-1.93858749e-01,  1.59028338e+00, -8.18076001e-01,\n",
       "         9.41435253e-01,  1.14304098e+00,  1.69106461e+00,\n",
       "         1.20849350e+00,  1.42813660e+00,  1.65631282e+00],\n",
       "       [-5.91330147e-01,  1.15980929e+00, -8.18076001e-01,\n",
       "         9.28347562e-01,  8.11944636e-01,  9.71044918e-01,\n",
       "         1.13005146e+00,  8.93486267e-01,  1.07331932e+00],\n",
       "       [ 4.87694966e-03,  2.98861093e-01, -8.18076001e-01,\n",
       "         7.74723316e-01,  4.76274499e-01,  1.30650428e-01,\n",
       "         7.99085251e-01,  3.50667431e-01,  3.44577446e-01],\n",
       "       [-1.91623481e+00,  7.29335190e-01, -8.18076001e-01,\n",
       "         1.59313740e+00,  5.19770969e-01,  5.80361175e-02,\n",
       "         1.93496191e+00,  3.85633968e-01,  1.66956267e+00],\n",
       "       [ 1.85974347e+00, -1.31613003e-01, -8.18076001e-01,\n",
       "        -1.05181608e+00, -4.52043476e-01, -7.37593152e-01,\n",
       "        -8.94944045e-01, -5.69414826e-01, -8.34659404e-01],\n",
       "       [-6.13682833e-02,  1.15980929e+00,  4.26422966e-01,\n",
       "        -6.09535947e-02,  7.29429370e-02,  1.08738174e+00,\n",
       "        -1.90845440e-01,  4.33111946e-01, -3.57664723e-01],\n",
       "       [-9.88801544e-01, -5.62087099e-01,  1.11304111e+00,\n",
       "        -3.05785192e-01, -4.66434464e-01, -1.26946018e+00,\n",
       "        -5.86587390e-01, -6.14114965e-01, -7.94909847e-01],\n",
       "       [ 1.19729114e+00,  2.98861093e-01,  1.65691674e+00,\n",
       "        -1.73509062e+00, -1.30978703e+00, -1.40908397e+00,\n",
       "        -1.55509244e+00, -1.41417021e+00, -9.00908665e-01],\n",
       "       [ 1.13104591e+00, -1.31613003e-01, -8.18076001e-01,\n",
       "         4.85932559e-01,  1.17657116e+00,  1.48559449e+00,\n",
       "         3.43841560e-01,  1.36360245e+00,  5.03575673e-01],\n",
       "       [ 1.26353638e+00,  2.45123157e+00,  1.87327359e+00,\n",
       "        -1.71077438e+00, -1.28049475e+00, -1.40908397e+00,\n",
       "        -1.46312877e+00, -1.41417021e+00, -9.00908665e-01],\n",
       "       [ 1.59476254e+00,  2.98861093e-01, -8.18076001e-01,\n",
       "        -1.87151036e+00, -2.20956431e+00, -1.34323724e+00,\n",
       "        -1.76117438e+00, -2.08424252e+00, -9.14158517e-01],\n",
       "       [-5.25084914e-01, -9.92561195e-01, -8.18076001e-01,\n",
       "         8.25233007e-01, -1.13396154e-01,  6.45904588e-03,\n",
       "         6.93711484e-01, -1.11226189e-01,  3.98308442e-02],\n",
       "       [-7.23820613e-01,  2.98861093e-01,  1.83402871e+00,\n",
       "        -3.05785192e-01, -3.42348312e-01, -1.18965363e+00,\n",
       "        -4.97697809e-01, -4.84713798e-01, -7.41910438e-01],\n",
       "       [ 1.37367416e-01, -1.31613003e-01, -8.18076001e-01,\n",
       "         6.39359943e-01,  2.96778700e-01,  7.44118308e-01,\n",
       "         5.59981464e-01,  4.78982401e-01,  1.98829071e-01],\n",
       "       [ 3.36103114e-01,  1.59028338e+00, -8.18076001e-01,\n",
       "        -4.79226396e-01, -1.30978703e+00, -6.31380208e-01,\n",
       "        -4.97697809e-01, -1.14287003e+00, -8.08159699e-01],\n",
       "       [ 1.19729114e+00,  2.98861093e-01,  6.60668188e-01,\n",
       "        -1.37978607e+00, -1.17063617e+00, -1.13040590e-01,\n",
       "        -1.08061992e+00, -9.05452495e-01, -8.61159108e-01],\n",
       "       [ 4.87694966e-03, -1.31613003e-01, -8.18076001e-01,\n",
       "         2.52553461e-01, -6.70146344e-01, -5.46882745e-01,\n",
       "         1.15923074e-01, -6.76449380e-01, -4.90163245e-01],\n",
       "       [ 1.32978161e+00, -1.31613003e-01,  6.60668188e-01,\n",
       "        -1.78010807e+00, -2.20956431e+00, -1.46500413e+00,\n",
       "        -1.65404585e+00, -2.08424252e+00, -9.14158517e-01],\n",
       "       [-9.22556312e-01, -9.92561195e-01, -8.18076001e-01,\n",
       "         1.10198097e+00,  8.47102127e-01,  1.26587097e+00,\n",
       "         1.06125557e+00,  1.05620495e+00,  1.11306888e+00],\n",
       "       [ 4.02348347e-01,  1.59028338e+00, -8.18076001e-01,\n",
       "         8.37968971e-01,  1.04848481e+00,  1.44628554e+00,\n",
       "         1.07528038e+00,  1.26683146e+00,  1.31181666e+00],\n",
       "       [-4.58839681e-01, -1.31613003e-01, -8.18076001e-01,\n",
       "         9.67743988e-01,  1.16705919e+00,  7.95463607e-01,\n",
       "         1.00374596e+00,  1.00840599e+00,  1.00707006e+00],\n",
       "       [-1.32002771e+00,  2.45123157e+00, -8.18076001e-01,\n",
       "         1.14313729e+00,  5.96428866e-01,  6.45904588e-03,\n",
       "         1.60665488e+00,  4.59512944e-01,  1.29856681e+00],\n",
       "       [ 8.66064978e-01,  2.98861093e-01, -8.18076001e-01,\n",
       "         1.37187126e-01, -9.35601912e-01, -2.23640955e-01,\n",
       "        -2.89613764e-02, -7.42252767e-01, -5.82912211e-01],\n",
       "       [-1.38627294e+00, -2.28398348e+00, -2.76276417e-01,\n",
       "         1.34071178e+00,  8.70118952e-01,  7.64074882e-01,\n",
       "         1.16980536e+00,  8.14768024e-01,  1.04681961e+00],\n",
       "       [-4.58839681e-01, -5.62087099e-01, -8.18076001e-01,\n",
       "         9.15304187e-01,  6.23383098e-01,  7.92517914e-01,\n",
       "         8.65235992e-01,  6.93320774e-01,  6.22824343e-01],\n",
       "       [ 1.19729114e+00,  2.45123157e+00,  1.90133144e+00,\n",
       "        -1.61825586e+00, -2.53371005e-01, -1.28139071e+00,\n",
       "        -1.29657762e+00, -4.05545853e-01, -8.74408960e-01],\n",
       "       [-1.18753724e+00, -9.92561195e-01, -8.18076001e-01,\n",
       "         1.07477177e+00,  1.57592846e-01, -4.53059196e-01,\n",
       "         1.00374596e+00,  4.08200418e-02,  3.57827298e-01],\n",
       "       [-4.58839681e-01, -1.31613003e-01, -8.18076001e-01,\n",
       "         9.41435253e-01,  7.69922578e-01,  3.58535645e-01,\n",
       "         9.59048707e-01,  6.31284782e-01,  6.75823752e-01],\n",
       "       [ 1.72725301e+00, -9.92561195e-01, -8.18076001e-01,\n",
       "        -7.98194551e-01, -1.40281875e+00, -6.12662151e-01,\n",
       "        -8.94944045e-01, -1.21743041e+00, -8.47909256e-01],\n",
       "       [ 1.06480068e+00, -5.62087099e-01, -8.18076001e-01,\n",
       "         1.65379409e-02, -5.87832443e-01,  4.22072781e-02,\n",
       "        -2.61343466e-01, -3.92836056e-01, -6.22661768e-01],\n",
       "       [ 4.02348347e-01, -5.62087099e-01, -8.18076001e-01,\n",
       "         4.85932559e-01,  1.11188224e-01,  3.53905786e-01,\n",
       "         3.20278406e-01,  1.84908875e-01, -1.19167383e-01],\n",
       "       [-1.25378248e+00,  2.98861093e-01, -8.18076001e-01,\n",
       "         1.22669307e+00,  1.85841460e+00,  1.49763845e+00,\n",
       "         1.41011249e+00,  1.75330548e+00,  2.33205528e+00],\n",
       "       [ 3.36103114e-01, -5.62087099e-01, -8.18076001e-01,\n",
       "         1.78603549e-01, -6.70146344e-01, -3.15549847e-01,\n",
       "        -9.14510744e-02, -5.84130084e-01, -5.82912211e-01],\n",
       "       [ 1.46227207e+00,  1.15980929e+00, -8.18076001e-01,\n",
       "         3.06536171e-01,  2.37520152e-01,  4.88079124e-01,\n",
       "         2.96311679e-01,  3.22023318e-01, -7.94178260e-02],\n",
       "       [ 6.01084046e-01,  7.29335190e-01,  4.26422966e-01,\n",
       "        -8.87952168e-01, -1.22418657e+00, -6.86958686e-03,\n",
       "        -7.31947169e-01, -9.05452495e-01, -8.34659404e-01],\n",
       "       [ 2.69857881e-01, -1.31613003e-01, -2.76276417e-01,\n",
       "         1.89052719e-01,  1.36492385e+00,  1.15438165e+00,\n",
       "        -2.89613764e-02,  1.29616491e+00,  1.06080105e-01],\n",
       "       [-1.65125387e+00, -9.92561195e-01, -8.18076001e-01,\n",
       "         1.41351009e+00,  1.11375703e+00,  5.48798603e-01,\n",
       "         1.43209262e+00,  9.54391143e-01,  1.52381430e+00],\n",
       "       [ 7.11221826e-02,  7.29335190e-01,  1.42063214e+00,\n",
       "        -6.74672262e-01,  7.69922578e-01,  6.25426088e-01,\n",
       "        -6.81732593e-01,  6.82245264e-01, -5.82912211e-01],\n",
       "       [-8.56311079e-01,  1.59028338e+00, -8.18076001e-01,\n",
       "         8.76438959e-01,  5.34252840e-02,  9.80347646e-02,\n",
       "         1.11655276e+00,  3.18261026e-02,  4.50576264e-01],\n",
       "       [ 2.03612648e-01, -1.31613003e-01, -2.76276417e-01,\n",
       "         5.61602255e-02,  1.29931502e-01,  7.17381731e-01,\n",
       "        -1.90845440e-01,  3.57733874e-01, -3.84164428e-01],\n",
       "       [ 7.33574512e-01, -1.31613003e-01, -8.18076001e-01,\n",
       "         6.27308357e-01,  1.08895495e+00,  1.41914097e+00,\n",
       "         5.39801057e-01,  1.27789945e+00,  6.62573899e-01],\n",
       "       [-6.13682833e-02, -9.92561195e-01,  1.51301575e+00,\n",
       "        -1.17670955e+00, -1.00116934e+00, -1.42277942e+00,\n",
       "        -1.01580791e+00, -1.16716896e+00, -8.61159108e-01],\n",
       "       [ 1.32978161e+00,  8.53882833e-02,  1.89892415e+00,\n",
       "        -1.74088658e+00, -1.43574647e+00, -1.49415595e+00,\n",
       "        -1.55509244e+00, -1.51093795e+00, -9.00908665e-01],\n",
       "       [-1.27613516e-01,  1.15980929e+00,  4.26422966e-01,\n",
       "        -3.39936622e-01,  3.36332234e-02,  4.40439127e-01,\n",
       "        -4.14274318e-01,  1.76858297e-01, -5.69662359e-01],\n",
       "       [-1.84998957e+00, -5.62087099e-01, -8.18076001e-01,\n",
       "         1.53248394e+00, -1.71064470e-02, -3.52934183e-01,\n",
       "         1.64486990e+00, -1.41866326e-01,  8.74571535e-01],\n",
       "       [ 1.66100777e+00,  1.15980929e+00, -8.18076001e-01,\n",
       "        -7.99655064e-02,  8.26015011e-02, -6.91894125e-02,\n",
       "        -1.90845440e-01, -2.34951709e-02, -4.90163245e-01],\n",
       "       [ 2.69857881e-01,  8.53882833e-02,  6.60668188e-01,\n",
       "        -9.72421838e-01, -4.84623943e-02,  8.53943658e-01,\n",
       "        -5.86587390e-01,  2.77872526e-01, -6.35911620e-01],\n",
       "       [-5.91330147e-01, -5.62087099e-01, -8.18076001e-01,\n",
       "         9.94231198e-01,  1.68971619e+00,  1.42295796e+00,\n",
       "         9.59048707e-01,  1.62143881e+00,  1.48406474e+00],\n",
       "       [-4.58839681e-01, -5.62087099e-01, -8.18076001e-01,\n",
       "         5.79520405e-01, -3.03479108e-01, -5.07173948e-01,\n",
       "         4.12243169e-01, -4.18388914e-01, -2.64915757e-01],\n",
       "       [ 9.32310211e-01,  2.02075748e+00,  1.11304111e+00,\n",
       "        -1.23874872e+00, -1.40281875e+00, -1.22309138e+00,\n",
       "        -8.38380712e-01, -1.41417021e+00, -8.47909256e-01],\n",
       "       [-5.25084914e-01,  1.15980929e+00, -2.76276417e-01,\n",
       "        -1.08215584e-01, -9.57047714e-01, -7.03175590e-01,\n",
       "        -6.33322048e-01, -9.05452495e-01, -8.21409552e-01],\n",
       "       [ 7.33574512e-01, -1.31613003e-01, -8.18076001e-01,\n",
       "         6.27308357e-01,  1.11188224e-01,  2.35632092e-01,\n",
       "         5.39801057e-01,  1.27489927e-01,  2.65809919e-02],\n",
       "       [ 1.37367416e-01, -1.31613003e-01,  1.23631822e-01,\n",
       "        -1.02403045e+00, -1.07070843e+00, -6.18862634e-01,\n",
       "        -8.94944045e-01, -9.65424727e-01, -8.47909256e-01],\n",
       "       [ 4.68593580e-01, -9.92561195e-01,  1.11304111e+00,\n",
       "        -1.06275598e+00, -6.36562008e-01, -1.21182260e+00,\n",
       "        -9.54007191e-01, -7.76590950e-01, -8.47909256e-01],\n",
       "       [ 1.32978161e+00,  2.45123157e+00, -8.18076001e-01,\n",
       "         4.28768406e-01,  1.88720344e+00,  1.85859398e+00,\n",
       "         2.71926937e-01,  1.98079427e+00,  8.34821979e-01],\n",
       "       [ 4.02348347e-01, -1.31613003e-01, -8.18076001e-01,\n",
       "         5.67677529e-01,  9.42732586e-01,  5.33489430e-01,\n",
       "         4.56059965e-01,  7.99508991e-01,  2.91578037e-01],\n",
       "       [-1.38627294e+00,  6.64655737e-02, -2.76276417e-01,\n",
       "         3.17450070e-01,  9.96461262e-01,  1.03843030e+00,\n",
       "        -2.25641430e-01,  1.03467354e+00, -1.72166792e-01],\n",
       "       [-1.93858749e-01,  2.98861093e-01,  1.21167172e+00,\n",
       "        -5.72006285e-01, -4.80989087e-01, -1.33056360e+00,\n",
       "        -6.81732593e-01, -6.29394766e-01, -8.08159699e-01],\n",
       "       [-1.65125387e+00,  2.98861093e-01, -8.18076001e-01,\n",
       "         1.36968822e+00,  2.29404469e+00,  1.68531479e+00,\n",
       "         1.57732528e+00,  2.08665870e+00,  3.10054671e+00],\n",
       "       [ 9.32310211e-01,  6.24676490e-02,  1.88952467e+00,\n",
       "        -1.73509062e+00, -2.06962301e+00, -1.50904967e+00,\n",
       "        -1.46312877e+00, -1.97174155e+00, -9.00908665e-01]])"
      ]
     },
     "execution_count": 57,
     "metadata": {},
     "output_type": "execute_result"
    }
   ],
   "source": [
    "X_test"
   ]
  },
  {
   "cell_type": "markdown",
   "id": "ff6dd540",
   "metadata": {},
   "source": [
    "# Linear Regression Model "
   ]
  },
  {
   "cell_type": "code",
   "execution_count": 58,
   "id": "b76388bf",
   "metadata": {},
   "outputs": [],
   "source": [
    "#importing linear regression library\n",
    "from sklearn.linear_model import LinearRegression\n",
    "regression=LinearRegression()"
   ]
  },
  {
   "cell_type": "code",
   "execution_count": 59,
   "id": "1f04ac03",
   "metadata": {},
   "outputs": [
    {
     "data": {
      "text/plain": [
       "LinearRegression()"
      ]
     },
     "execution_count": 59,
     "metadata": {},
     "output_type": "execute_result"
    }
   ],
   "source": [
    "regression.fit(X_train,y_train)\n"
   ]
  },
  {
   "cell_type": "code",
   "execution_count": 60,
   "id": "79e67c3f",
   "metadata": {},
   "outputs": [],
   "source": [
    "##print the coefficent and intercept----"
   ]
  },
  {
   "cell_type": "code",
   "execution_count": 61,
   "id": "7a8d9e15",
   "metadata": {},
   "outputs": [
    {
     "name": "stdout",
     "output_type": "stream",
     "text": [
      "[-0.56649305 -0.40829082  1.21146744  2.89547802  0.79972819  0.19531003\n",
      " -0.1322815  -0.46642882 -0.35622948]\n"
     ]
    }
   ],
   "source": [
    "print(regression.coef_)"
   ]
  },
  {
   "cell_type": "code",
   "execution_count": 62,
   "id": "0978016f",
   "metadata": {},
   "outputs": [
    {
     "name": "stdout",
     "output_type": "stream",
     "text": [
      "32.17791411042945\n"
     ]
    }
   ],
   "source": [
    "print(regression.intercept_)"
   ]
  },
  {
   "cell_type": "code",
   "execution_count": 63,
   "id": "3768fd00",
   "metadata": {},
   "outputs": [],
   "source": [
    "##prediction for dataset"
   ]
  },
  {
   "cell_type": "code",
   "execution_count": 64,
   "id": "0f15c22f",
   "metadata": {},
   "outputs": [],
   "source": [
    "reg_pred=regression.predict(X_test)"
   ]
  },
  {
   "cell_type": "code",
   "execution_count": 65,
   "id": "6af7504d",
   "metadata": {},
   "outputs": [
    {
     "data": {
      "text/plain": [
       "array([33.15832669, 32.99456563, 31.40679216, 31.76525941, 33.0414786 ,\n",
       "       34.17029285, 33.34849458, 33.53712219, 31.78460363, 33.28076704,\n",
       "       34.0121367 , 28.08813438, 35.67673318, 30.7863145 , 34.52311063,\n",
       "       32.39467916, 33.81686575, 28.21919344, 36.44012115, 34.60436761,\n",
       "       32.54042263, 33.20165939, 33.62670576, 33.31964425, 35.98392146,\n",
       "       27.31727102, 32.30059831, 33.45682389, 28.22458678, 32.37704822,\n",
       "       27.65204341, 24.24385363, 34.13549668, 33.85247718, 33.02837393,\n",
       "       28.67555954, 28.09664923, 31.80112329, 26.58787247, 35.20063061,\n",
       "       32.65647952, 34.42940646, 33.83253566, 30.73720505, 37.38046643,\n",
       "       34.32012515, 28.33588389, 35.13506405, 34.25010486, 28.04921038,\n",
       "       30.8387685 , 32.66729508, 35.27060081, 31.63771718, 30.89667573,\n",
       "       29.32129916, 32.9699799 , 36.44077284, 32.32488695, 33.29916803,\n",
       "       32.18347651, 32.885928  , 30.95076277, 28.44087941, 31.59714448,\n",
       "       36.35604091, 29.80417457, 30.27747457, 34.8475095 , 33.24748511,\n",
       "       28.29816007, 31.2497968 , 32.63597281, 29.232142  , 30.6336537 ,\n",
       "       31.28919698, 32.97736295, 34.12885216, 32.00448656, 35.84348165,\n",
       "       28.37372653])"
      ]
     },
     "execution_count": 65,
     "metadata": {},
     "output_type": "execute_result"
    }
   ],
   "source": [
    "reg_pred"
   ]
  },
  {
   "cell_type": "code",
   "execution_count": 66,
   "id": "243ad16e",
   "metadata": {},
   "outputs": [],
   "source": [
    "#Assumptions"
   ]
  },
  {
   "cell_type": "code",
   "execution_count": 67,
   "id": "15315e46",
   "metadata": {},
   "outputs": [
    {
     "data": {
      "text/plain": [
       "Text(0.5, 0, 'test_predicted_data')"
      ]
     },
     "execution_count": 67,
     "metadata": {},
     "output_type": "execute_result"
    },
    {
     "data": {
      "image/png": "[encoded data removed]",
      "text/plain": [
       "<Figure size 432x288 with 1 Axes>"
      ]
     },
     "metadata": {
      "needs_background": "light"
     },
     "output_type": "display_data"
    }
   ],
   "source": [
    "plt.scatter(y_test,reg_pred)\n",
    "plt.xlabel('test_truth_data')\n",
    "plt.xlabel('test_predicted_data')"
   ]
  },
  {
   "cell_type": "code",
   "execution_count": 68,
   "id": "82aa93c9",
   "metadata": {},
   "outputs": [],
   "source": [
    "residuals=y_test-reg_pred"
   ]
  },
  {
   "cell_type": "code",
   "execution_count": 69,
   "id": "400d9d6c",
   "metadata": {},
   "outputs": [
    {
     "data": {
      "text/plain": [
       "162    0.841673\n",
       "60     2.005434\n",
       "61     4.593208\n",
       "63     3.234741\n",
       "69     1.958521\n",
       "         ...   \n",
       "169    0.022637\n",
       "232   -5.128852\n",
       "144    0.995513\n",
       "208   -2.843482\n",
       "105   -6.373727\n",
       "Name: Temperature, Length: 81, dtype: float64"
      ]
     },
     "execution_count": 69,
     "metadata": {},
     "output_type": "execute_result"
    }
   ],
   "source": [
    "residuals"
   ]
  },
  {
   "cell_type": "code",
   "execution_count": 70,
   "id": "993a92bd",
   "metadata": {},
   "outputs": [
    {
     "data": {
      "text/plain": [
       "<seaborn.axisgrid.FacetGrid at 0x1ca4c355910>"
      ]
     },
     "execution_count": 70,
     "metadata": {},
     "output_type": "execute_result"
    },
    {
     "data": {
      "image/png": "[encoded data removed]",
      "text/plain": [
       "<Figure size 360x360 with 1 Axes>"
      ]
     },
     "metadata": {
      "needs_background": "light"
     },
     "output_type": "display_data"
    }
   ],
   "source": [
    "sns.displot(residuals,kind=\"kde\")"
   ]
  },
  {
   "cell_type": "code",
   "execution_count": 71,
   "id": "5dd43e9f",
   "metadata": {},
   "outputs": [],
   "source": [
    "##scatter plot with prediction and residuals"
   ]
  },
  {
   "cell_type": "code",
   "execution_count": 72,
   "id": "b7131557",
   "metadata": {},
   "outputs": [
    {
     "data": {
      "text/plain": [
       "<matplotlib.collections.PathCollection at 0x1ca4df57640>"
      ]
     },
     "execution_count": 72,
     "metadata": {},
     "output_type": "execute_result"
    },
    {
     "data": {
      "image/png": "[encoded data removed]",
      "text/plain": [
       "<Figure size 432x288 with 1 Axes>"
      ]
     },
     "metadata": {
      "needs_background": "light"
     },
     "output_type": "display_data"
    }
   ],
   "source": [
    "plt.scatter(reg_pred,residuals)"
   ]
  },
  {
   "cell_type": "code",
   "execution_count": 73,
   "id": "fb07a543",
   "metadata": {},
   "outputs": [],
   "source": [
    "## performance matrices"
   ]
  },
  {
   "cell_type": "code",
   "execution_count": 74,
   "id": "147ee701",
   "metadata": {},
   "outputs": [
    {
     "name": "stdout",
     "output_type": "stream",
     "text": [
      "6.179011029590146\n",
      "2.0517653255056074\n",
      "2.4857616598519954\n"
     ]
    }
   ],
   "source": [
    "from sklearn.metrics import mean_squared_error\n",
    "from sklearn.metrics import mean_absolute_error\n",
    "print(mean_squared_error(y_test,reg_pred))\n",
    "print(mean_absolute_error(y_test,reg_pred))\n",
    "print(np.sqrt(mean_squared_error(y_test,reg_pred)))"
   ]
  },
  {
   "cell_type": "code",
   "execution_count": 75,
   "id": "8e824bee",
   "metadata": {},
   "outputs": [
    {
     "name": "stdout",
     "output_type": "stream",
     "text": [
      "0.5913998330429866\n"
     ]
    }
   ],
   "source": [
    "from sklearn.metrics import r2_score \n",
    "score=r2_score(y_test,reg_pred)\n",
    "print(score) "
   ]
  },
  {
   "cell_type": "code",
   "execution_count": 76,
   "id": "d01feca6",
   "metadata": {},
   "outputs": [
    {
     "data": {
      "text/plain": [
       "0.5396054456822384"
      ]
     },
     "execution_count": 76,
     "metadata": {},
     "output_type": "execute_result"
    }
   ],
   "source": [
    "\n",
    "## Adjusted R square\n",
    "#display adjusted R-squared\n",
    "1 - (1-score)*(len(y_test)-1)/(len(y_test)-X_test.shape[1]-1)"
   ]
  },
  {
   "cell_type": "markdown",
   "id": "9e0e6587",
   "metadata": {},
   "source": [
    "# Ridge Regression model"
   ]
  },
  {
   "cell_type": "code",
   "execution_count": 77,
   "id": "683f2a4b",
   "metadata": {},
   "outputs": [],
   "source": [
    "#import ridge library\n",
    "from sklearn.linear_model import Ridge\n",
    "ridge=Ridge()"
   ]
  },
  {
   "cell_type": "code",
   "execution_count": 78,
   "id": "c5a0dc32",
   "metadata": {},
   "outputs": [
    {
     "data": {
      "text/plain": [
       "Ridge()"
      ]
     },
     "execution_count": 78,
     "metadata": {},
     "output_type": "execute_result"
    }
   ],
   "source": [
    "ridge.fit(X_train,y_train)"
   ]
  },
  {
   "cell_type": "code",
   "execution_count": 79,
   "id": "ff2ea0c8",
   "metadata": {},
   "outputs": [
    {
     "data": {
      "text/plain": [
       "array([33.02050909, 33.03657282, 31.46919558, 31.67822621, 33.05077987,\n",
       "       34.29375133, 33.41692851, 33.49688703, 31.75430021, 33.24280115,\n",
       "       33.98890166, 28.05370409, 35.63602815, 30.73352121, 34.34748738,\n",
       "       32.33313996, 33.76174082, 28.25894113, 36.45935805, 34.61207414,\n",
       "       32.54807464, 33.26282037, 33.66529926, 33.28613483, 36.01479528,\n",
       "       27.51581102, 32.22867326, 33.38539673, 28.20236108, 32.36794318,\n",
       "       27.51351466, 24.43797501, 34.11617109, 33.68486529, 33.03768294,\n",
       "       28.71495534, 28.23547948, 31.78354064, 26.64866612, 35.2676409 ,\n",
       "       32.67858542, 34.41118294, 33.89735879, 30.66686603, 37.31930575,\n",
       "       34.33351575, 28.36969471, 35.17818311, 34.2398208 , 28.12637205,\n",
       "       30.79787285, 32.6434408 , 35.30440298, 31.59698011, 30.82311775,\n",
       "       29.37843187, 32.92733516, 36.46485187, 32.24918907, 33.31216859,\n",
       "       32.16538986, 32.89056404, 31.01940593, 28.39758898, 31.56878078,\n",
       "       36.35698907, 29.69978586, 30.55587132, 34.86110086, 33.21248249,\n",
       "       28.29960084, 31.05066816, 32.56061155, 29.40272736, 30.72822446,\n",
       "       31.16452716, 32.93744217, 34.04994897, 31.94469325, 35.85705977,\n",
       "       28.37109199])"
      ]
     },
     "execution_count": 79,
     "metadata": {},
     "output_type": "execute_result"
    }
   ],
   "source": [
    "#predict test data\n",
    "rid_pred=ridge.predict(X_test)\n",
    "rid_pred"
   ]
  },
  {
   "cell_type": "code",
   "execution_count": 80,
   "id": "dda47894",
   "metadata": {},
   "outputs": [],
   "source": [
    "#Assumptions "
   ]
  },
  {
   "cell_type": "code",
   "execution_count": 81,
   "id": "320be033",
   "metadata": {},
   "outputs": [
    {
     "data": {
      "text/plain": [
       "Text(0, 0.5, 'rid_pred')"
      ]
     },
     "execution_count": 81,
     "metadata": {},
     "output_type": "execute_result"
    },
    {
     "data": {
      "image/png": "[encoded data removed]",
      "text/plain": [
       "<Figure size 432x288 with 1 Axes>"
      ]
     },
     "metadata": {
      "needs_background": "light"
     },
     "output_type": "display_data"
    }
   ],
   "source": [
    "plt.scatter(y_test,rid_pred)\n",
    "plt.xlabel('y_test')\n",
    "plt.ylabel('rid_pred')\n"
   ]
  },
  {
   "cell_type": "code",
   "execution_count": 82,
   "id": "96184099",
   "metadata": {},
   "outputs": [
    {
     "data": {
      "text/plain": [
       "162    0.979491\n",
       "60     1.963427\n",
       "61     4.530804\n",
       "63     3.321774\n",
       "69     1.949220\n",
       "         ...   \n",
       "169    0.062558\n",
       "232   -5.049949\n",
       "144    1.055307\n",
       "208   -2.857060\n",
       "105   -6.371092\n",
       "Name: Temperature, Length: 81, dtype: float64"
      ]
     },
     "execution_count": 82,
     "metadata": {},
     "output_type": "execute_result"
    }
   ],
   "source": [
    "residuals1=y_test-rid_pred\n",
    "residuals1"
   ]
  },
  {
   "cell_type": "code",
   "execution_count": 83,
   "id": "71f327a3",
   "metadata": {},
   "outputs": [
    {
     "data": {
      "text/plain": [
       "<seaborn.axisgrid.FacetGrid at 0x1ca44536d00>"
      ]
     },
     "execution_count": 83,
     "metadata": {},
     "output_type": "execute_result"
    },
    {
     "data": {
      "image/png": "[encoded data removed]",
      "text/plain": [
       "<Figure size 360x360 with 1 Axes>"
      ]
     },
     "metadata": {
      "needs_background": "light"
     },
     "output_type": "display_data"
    }
   ],
   "source": [
    "sns.displot(residuals1,kind=\"kde\")"
   ]
  },
  {
   "cell_type": "code",
   "execution_count": 84,
   "id": "7899d111",
   "metadata": {},
   "outputs": [
    {
     "data": {
      "text/plain": [
       "<matplotlib.collections.PathCollection at 0x1ca4e4cb940>"
      ]
     },
     "execution_count": 84,
     "metadata": {},
     "output_type": "execute_result"
    },
    {
     "data": {
      "image/png": "[encoded data removed]",
      "text/plain": [
       "<Figure size 432x288 with 1 Axes>"
      ]
     },
     "metadata": {
      "needs_background": "light"
     },
     "output_type": "display_data"
    }
   ],
   "source": [
    "# Scaterplot with prediction and residuals\n",
    "# It should be uniform for good model\n",
    "plt.scatter(rid_pred,residuals1)"
   ]
  },
  {
   "cell_type": "code",
   "execution_count": 85,
   "id": "6415700d",
   "metadata": {},
   "outputs": [
    {
     "name": "stdout",
     "output_type": "stream",
     "text": [
      "0.5933906845923509\n"
     ]
    }
   ],
   "source": [
    "#Rsquared for ridge regression\n",
    "from sklearn.metrics import r2_score \n",
    "score1=r2_score(y_test,rid_pred)\n",
    "print(score1)"
   ]
  },
  {
   "cell_type": "markdown",
   "id": "c5c59b48",
   "metadata": {},
   "source": [
    "# Lasso regression"
   ]
  },
  {
   "cell_type": "code",
   "execution_count": 86,
   "id": "877cb765",
   "metadata": {},
   "outputs": [],
   "source": [
    "#import lasso library\n",
    "from sklearn.linear_model import Lasso\n",
    "lasso=Lasso()"
   ]
  },
  {
   "cell_type": "code",
   "execution_count": 87,
   "id": "28ef07d7",
   "metadata": {},
   "outputs": [
    {
     "data": {
      "text/plain": [
       "Lasso()"
      ]
     },
     "execution_count": 87,
     "metadata": {},
     "output_type": "execute_result"
    }
   ],
   "source": [
    "lasso.fit(X_train,y_train)"
   ]
  },
  {
   "cell_type": "code",
   "execution_count": 88,
   "id": "41235952",
   "metadata": {},
   "outputs": [
    {
     "data": {
      "text/plain": [
       "array([31.97160566, 32.71828719, 32.77855666, 31.78242451, 32.96927248,\n",
       "       33.48792352, 33.45194495, 32.53077853, 31.98975188, 32.74180345,\n",
       "       33.27915618, 30.1922044 , 34.21494634, 30.70012186, 32.85764673,\n",
       "       32.31297983, 32.80853512, 29.82974871, 34.86809143, 33.6736382 ,\n",
       "       32.38548082, 33.16568572, 33.4281613 , 32.87728976, 34.94567476,\n",
       "       29.94017139, 32.16498218, 32.5830421 , 29.77762699, 31.83801402,\n",
       "       29.75395941, 29.37953508, 33.28890282, 32.40014393, 32.66305424,\n",
       "       31.51122487, 30.09991933, 32.40363599, 29.64534314, 33.81428472,\n",
       "       32.66031185, 33.37244822, 34.12596437, 31.70456955, 34.35090627,\n",
       "       33.32488073, 29.88360635, 33.97250177, 33.34858389, 30.2616774 ,\n",
       "       31.45795654, 32.340984  , 34.15603223, 32.10793422, 31.44666307,\n",
       "       30.95757663, 32.16313708, 34.59983889, 31.51683653, 33.56397383,\n",
       "       32.0883165 , 32.2406015 , 31.15289384, 29.68092046, 31.9576447 ,\n",
       "       34.84493222, 30.95889857, 31.10957797, 33.48792352, 33.02029544,\n",
       "       30.41075073, 32.44218323, 32.2406015 , 31.15421352, 30.89046336,\n",
       "       31.64898749, 32.41513384, 33.42271831, 31.79286174, 34.56008862,\n",
       "       29.96052517])"
      ]
     },
     "execution_count": 88,
     "metadata": {},
     "output_type": "execute_result"
    }
   ],
   "source": [
    "#predict test value\n",
    "lasso_pred=lasso.predict(X_test)\n",
    "lasso_pred"
   ]
  },
  {
   "cell_type": "code",
   "execution_count": 89,
   "id": "e5614e3e",
   "metadata": {},
   "outputs": [],
   "source": [
    "#Assumption"
   ]
  },
  {
   "cell_type": "code",
   "execution_count": 90,
   "id": "d7fece79",
   "metadata": {},
   "outputs": [
    {
     "data": {
      "text/plain": [
       "Text(0, 0.5, 'lasso_pred')"
      ]
     },
     "execution_count": 90,
     "metadata": {},
     "output_type": "execute_result"
    },
    {
     "data": {
      "image/png": "[encoded data removed]",
      "text/plain": [
       "<Figure size 432x288 with 1 Axes>"
      ]
     },
     "metadata": {
      "needs_background": "light"
     },
     "output_type": "display_data"
    }
   ],
   "source": [
    "plt.scatter(y_test,lasso_pred)\n",
    "plt.xlabel(\"y_test\")\n",
    "plt.ylabel(\"lasso_pred\")"
   ]
  },
  {
   "cell_type": "code",
   "execution_count": 91,
   "id": "9a3921cb",
   "metadata": {},
   "outputs": [
    {
     "data": {
      "text/plain": [
       "162    2.028394\n",
       "60     2.281713\n",
       "61     3.221443\n",
       "63     3.217575\n",
       "69     2.030728\n",
       "         ...   \n",
       "169    0.584866\n",
       "232   -4.422718\n",
       "144    1.207138\n",
       "208   -1.560089\n",
       "105   -7.960525\n",
       "Name: Temperature, Length: 81, dtype: float64"
      ]
     },
     "execution_count": 91,
     "metadata": {},
     "output_type": "execute_result"
    }
   ],
   "source": [
    "residuals2=y_test-lasso_pred\n",
    "residuals2"
   ]
  },
  {
   "cell_type": "code",
   "execution_count": 92,
   "id": "746dfaf2",
   "metadata": {},
   "outputs": [
    {
     "data": {
      "text/plain": [
       "<seaborn.axisgrid.FacetGrid at 0x1ca4bda57c0>"
      ]
     },
     "execution_count": 92,
     "metadata": {},
     "output_type": "execute_result"
    },
    {
     "data": {
      "image/png": "[encoded data removed]",
      "text/plain": [
       "<Figure size 360x360 with 1 Axes>"
      ]
     },
     "metadata": {
      "needs_background": "light"
     },
     "output_type": "display_data"
    }
   ],
   "source": [
    "sns.displot(residuals2,kind=\"kde\")"
   ]
  },
  {
   "cell_type": "code",
   "execution_count": 93,
   "id": "c10e12a2",
   "metadata": {},
   "outputs": [
    {
     "data": {
      "text/plain": [
       "<matplotlib.collections.PathCollection at 0x1ca4bbc9a30>"
      ]
     },
     "execution_count": 93,
     "metadata": {},
     "output_type": "execute_result"
    },
    {
     "data": {
      "image/png": "[encoded data removed]",
      "text/plain": [
       "<Figure size 432x288 with 1 Axes>"
      ]
     },
     "metadata": {
      "needs_background": "light"
     },
     "output_type": "display_data"
    }
   ],
   "source": [
    "# Scaterplot with prediction and residuals\n",
    "# It should be uniform for good model\n",
    "plt.scatter(lasso_pred,residuals2)"
   ]
  },
  {
   "cell_type": "code",
   "execution_count": 94,
   "id": "3c992d52",
   "metadata": {},
   "outputs": [
    {
     "data": {
      "text/plain": [
       "Text(0, 0.5, 'residuals2')"
      ]
     },
     "execution_count": 94,
     "metadata": {},
     "output_type": "execute_result"
    },
    {
     "data": {
      "image/png": "[encoded data removed]",
      "text/plain": [
       "<Figure size 432x288 with 1 Axes>"
      ]
     },
     "metadata": {
      "needs_background": "light"
     },
     "output_type": "display_data"
    }
   ],
   "source": [
    "#scatter plot between predicted value and residuals \n",
    "plt.scatter(lasso_pred,residuals2)\n",
    "plt.xlabel(\"lasso_pred\")\n",
    "plt.ylabel(\"residuals2\")"
   ]
  },
  {
   "cell_type": "code",
   "execution_count": 95,
   "id": "e370b3dc",
   "metadata": {},
   "outputs": [
    {
     "name": "stdout",
     "output_type": "stream",
     "text": [
      "0.40508005145936055\n"
     ]
    }
   ],
   "source": [
    "#Rsquared for lasso regression\n",
    "from sklearn.metrics import r2_score \n",
    "score2=r2_score(y_test,lasso_pred)\n",
    "print(score2)"
   ]
  },
  {
   "cell_type": "code",
   "execution_count": null,
   "id": "3a60cf65",
   "metadata": {},
   "outputs": [],
   "source": []
  }
 ],
 "metadata": {
  "kernelspec": {
   "display_name": "Python 3 (ipykernel)",
   "language": "python",
   "name": "python3"
  },
  "language_info": {
   "codemirror_mode": {
    "name": "ipython",
    "version": 3
   },
   "file_extension": ".py",
   "mimetype": "text/x-python",
   "name": "python",
   "nbconvert_exporter": "python",
   "pygments_lexer": "ipython3",
   "version": "3.9.12"
  }
 },
 "nbformat": 4,
 "nbformat_minor": 5
}
